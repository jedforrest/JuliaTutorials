{
 "cells": [
  {
   "cell_type": "markdown",
   "id": "d4591b09",
   "metadata": {},
   "source": [
    "# Chemical Reaction Network Theory"
   ]
  },
  {
   "cell_type": "code",
   "execution_count": 1,
   "id": "c8c2e88a",
   "metadata": {},
   "outputs": [
    {
     "name": "stderr",
     "output_type": "stream",
     "text": [
      "\u001b[32m\u001b[1m  Activating\u001b[22m\u001b[39m project at `~/Documents/repos/JuliaTutorials`\n"
     ]
    }
   ],
   "source": [
    "using Pkg\n",
    "Pkg.activate(\".\")"
   ]
  },
  {
   "cell_type": "code",
   "execution_count": null,
   "id": "251d816b",
   "metadata": {},
   "outputs": [],
   "source": [
    "using Catalyst\n",
    "using LinearAlgebra\n",
    "import CairoMakie, GraphMakie, NetworkLayout"
   ]
  },
  {
   "cell_type": "markdown",
   "id": "e4084848",
   "metadata": {},
   "source": [
    "## Absolute Concentration Robustness (ACR)\n",
    "Shinar and Feinberg (2010)"
   ]
  },
  {
   "cell_type": "code",
   "execution_count": null,
   "id": "4463f77d",
   "metadata": {},
   "outputs": [],
   "source": [
    "rn = @reaction_network begin\n",
    "    α, A + B --> 2B\n",
    "    β, B --> A\n",
    "end"
   ]
  },
  {
   "cell_type": "code",
   "execution_count": null,
   "id": "7a46e7ae",
   "metadata": {},
   "outputs": [],
   "source": [
    "plot_complexes(rn)\n"
   ]
  },
  {
   "cell_type": "code",
   "execution_count": null,
   "id": "592a70ea",
   "metadata": {},
   "outputs": [],
   "source": [
    "reactioncomplexes(rn)\n"
   ]
  },
  {
   "cell_type": "markdown",
   "id": "a1aa3b64",
   "metadata": {},
   "source": [
    "### Linkage classes"
   ]
  },
  {
   "cell_type": "code",
   "execution_count": null,
   "id": "ef27be8b",
   "metadata": {},
   "outputs": [],
   "source": [
    "lcs = linkageclasses(rn)\n"
   ]
  },
  {
   "cell_type": "code",
   "execution_count": null,
   "id": "65e50fff",
   "metadata": {},
   "outputs": [],
   "source": [
    "subnets = subnetworks(rn)\n",
    "reactions.(subnets)"
   ]
  },
  {
   "cell_type": "markdown",
   "id": "e6d0141e",
   "metadata": {},
   "source": [
    "### Deficiency"
   ]
  },
  {
   "cell_type": "code",
   "execution_count": null,
   "id": "b169a765",
   "metadata": {},
   "outputs": [],
   "source": [
    "conservationlaws(rn)\n",
    "\n",
    "conservedequations(rn)"
   ]
  },
  {
   "cell_type": "markdown",
   "id": "39e14ffc",
   "metadata": {},
   "source": [
    "## Independent Decomposition"
   ]
  },
  {
   "cell_type": "code",
   "execution_count": null,
   "id": "14e4a11a",
   "metadata": {},
   "outputs": [],
   "source": [
    "# TODO"
   ]
  }
 ],
 "metadata": {
  "kernelspec": {
   "display_name": "Julia 1.11.6",
   "language": "julia",
   "name": "julia-1.11"
  },
  "language_info": {
   "file_extension": ".jl",
   "mimetype": "application/julia",
   "name": "julia",
   "version": "1.11.6"
  }
 },
 "nbformat": 4,
 "nbformat_minor": 5
}
