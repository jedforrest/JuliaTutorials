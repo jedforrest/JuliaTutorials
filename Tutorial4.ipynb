{
 "cells": [
  {
   "cell_type": "code",
   "execution_count": null,
   "id": "c10eb130",
   "metadata": {},
   "outputs": [],
   "source": [
    "using Pkg\n",
    "Pkg.activate(\".\")\n",
    "Pkg.add(\"Symbolics\")\n",
    "Pkg.add(\"Oscar\")"
   ]
  },
  {
   "cell_type": "markdown",
   "id": "fe76d525",
   "metadata": {},
   "source": [
    "### Aside: Computer Algebra Systems"
   ]
  },
  {
   "cell_type": "code",
   "execution_count": null,
   "id": "803237e7",
   "metadata": {},
   "outputs": [],
   "source": [
    "# TODO this might go at the end of tutoial 3\n",
    "using Symbolics\n",
    "@variables x y z"
   ]
  },
  {
   "cell_type": "code",
   "execution_count": null,
   "id": "8ea676ce",
   "metadata": {},
   "outputs": [],
   "source": [
    "x isa Number  # true\n",
    "\n",
    "f(t) = t^2 + t\n",
    "sym_vec = f.([2x, y^2 + 1, x + z + y])\n",
    "\n",
    "expand.(sym_vec)"
   ]
  },
  {
   "cell_type": "markdown",
   "id": "7de2a7ec",
   "metadata": {},
   "source": [
    "# 4. Groebner Basis with Oscar"
   ]
  },
  {
   "cell_type": "markdown",
   "id": "fb92e6c1",
   "metadata": {},
   "source": [
    "## Installation\n",
    "\n",
    "`Oscar.jl` is a Julia wrapper for multiple computer algebra systems written in other languages:\n",
    "- GAP\n",
    "- Singular\n",
    "- Polymake\n",
    "- Nemo\n",
    "- ...\n",
    "\n",
    "**Note:** `Oscar.jl` runs on either MacOS or Linux. If you use Windows, you will need to install a Windows Subsystem for Linux ([WSL]). (this is a linux inside windows). Alternatively, the university has remote desktops you can log into in Linux [link]"
   ]
  },
  {
   "cell_type": "code",
   "execution_count": null,
   "id": "d992a1f3",
   "metadata": {},
   "outputs": [],
   "source": [
    "using Oscar"
   ]
  },
  {
   "cell_type": "markdown",
   "id": "9c8f49dc",
   "metadata": {},
   "source": [
    "**TODO**\n",
    "- install/update OSCAR to 1.5 (differential polynomial rings?)\n",
    "- Include setup instructions\n",
    "- link oscar tutorials\n",
    "- GB explanation (theory)\n",
    "- basic GB example\n",
    "- GB example with fractional field for parameters\n",
    "- investigate tutorial https://nbviewer.org/github/oscar-system/OSCARBinder/blob/master/polynomial_system_solving.ipynb"
   ]
  },
  {
   "cell_type": "code",
   "execution_count": null,
   "id": "799a91e0",
   "metadata": {},
   "outputs": [],
   "source": []
  }
 ],
 "metadata": {
  "kernelspec": {
   "display_name": "Julia 1.11.7",
   "language": "julia",
   "name": "julia-1.11"
  },
  "language_info": {
   "file_extension": ".jl",
   "mimetype": "application/julia",
   "name": "julia",
   "version": "1.11.7"
  }
 },
 "nbformat": 4,
 "nbformat_minor": 5
}
