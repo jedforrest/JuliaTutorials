{
 "cells": [
  {
   "cell_type": "code",
   "execution_count": null,
   "id": "d992a1f3",
   "metadata": {},
   "outputs": [],
   "source": [
    "using Pkg\n",
    "Pkg.add(\"Symbolics\")"
   ]
  },
  {
   "cell_type": "markdown",
   "id": "fe76d525",
   "metadata": {},
   "source": [
    "### Symbolics"
   ]
  },
  {
   "cell_type": "code",
   "execution_count": null,
   "id": "803237e7",
   "metadata": {},
   "outputs": [],
   "source": [
    "using Symbolics\n",
    "@variables x y z"
   ]
  },
  {
   "cell_type": "code",
   "execution_count": null,
   "id": "8ea676ce",
   "metadata": {},
   "outputs": [],
   "source": [
    "x isa Number  # true\n",
    "\n",
    "f(t) = t^2 + t\n",
    "sym_vec = f.([2x, y^2 + 1, x + z + y])\n",
    "\n",
    "expand.(sym_vec)"
   ]
  }
 ],
 "metadata": {
  "kernelspec": {
   "display_name": "Julia 1.11.7",
   "language": "julia",
   "name": "julia-1.11"
  },
  "language_info": {
   "file_extension": ".jl",
   "mimetype": "application/julia",
   "name": "julia",
   "version": "1.11.7"
  }
 },
 "nbformat": 4,
 "nbformat_minor": 5
}
