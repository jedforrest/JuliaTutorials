{
 "cells": [
  {
   "cell_type": "markdown",
   "id": "7de2a7ec",
   "metadata": {},
   "source": [
    "# 4. Groebner Basis with Oscar"
   ]
  },
  {
   "cell_type": "code",
   "execution_count": null,
   "id": "c10eb130",
   "metadata": {},
   "outputs": [],
   "source": [
    "using Pkg\n",
    "Pkg.activate(\".\")\n",
    "Pkg.add(\"Oscar\")"
   ]
  },
  {
   "cell_type": "markdown",
   "id": "fb92e6c1",
   "metadata": {},
   "source": [
    "## Installation\n",
    "\n",
    "**todo** instructions from email\n",
    "\n",
    "`Oscar.jl` is a Julia wrapper for multiple computer algebra systems written in other languages:\n",
    "- GAP\n",
    "- Singular\n",
    "- Polymake\n",
    "- Nemo\n",
    "- ...\n",
    "\n",
    "**Note:** `Oscar.jl` runs on either MacOS or Linux. If you use Windows, you will need to install a Windows Subsystem for Linux ([WSL]). (this is a linux inside windows). Alternatively, the university has remote desktops you can log into in Linux [link]"
   ]
  },
  {
   "cell_type": "code",
   "execution_count": 1,
   "id": "d992a1f3",
   "metadata": {},
   "outputs": [
    {
     "name": "stdout",
     "output_type": "stream",
     "text": [
      "OSCAR version 1.5.0\n",
      "  combining:\n",
      "    AbstractAlgebra.jl   v0.47.3\n",
      "    GAP.jl               v0.15.3\n",
      "    Hecke.jl             v0.38.6\n",
      "    Nemo.jl              v0.52.1\n",
      "    Polymake.jl          v0.13.2\n",
      "    Singular.jl          v0.26.0\n"
     ]
    }
   ],
   "source": [
    "using Oscar\n",
    "Oscar.versioninfo()"
   ]
  },
  {
   "cell_type": "markdown",
   "id": "e0ac10bf",
   "metadata": {},
   "source": [
    "### Overview\n",
    "\n",
    "Oscar covers lots of different areas of computational algebra, including:\n",
    "- Group theory\n",
    "- Number theory\n",
    "- Commutative algebra\n",
    "- Polyhedral geometry\n",
    "- Toric geometry\n",
    "- Algebraic geometry\n",
    "- and more...\n",
    "\n",
    "There is much more that can be done than will be covered here.\n",
    "See the list of online tutorials for Oscar [here](https://www.oscar-system.org/tutorials/)."
   ]
  },
  {
   "cell_type": "markdown",
   "id": "ab4a3e00",
   "metadata": {},
   "source": [
    "## Polynomial rings"
   ]
  },
  {
   "cell_type": "code",
   "execution_count": 25,
   "id": "e0aae089",
   "metadata": {},
   "outputs": [
    {
     "data": {
      "text/html": [
       "5"
      ],
      "text/latex": [
       "5"
      ],
      "text/plain": [
       "5"
      ]
     },
     "metadata": {},
     "output_type": "display_data"
    }
   ],
   "source": [
    "ZZ(5)"
   ]
  },
  {
   "cell_type": "code",
   "execution_count": 69,
   "id": "6d62715b",
   "metadata": {},
   "outputs": [
    {
     "data": {
      "text/plain": [
       "(Univariate polynomial ring in x over QQ, x)"
      ]
     },
     "metadata": {},
     "output_type": "display_data"
    }
   ],
   "source": [
    "R, x = polynomial_ring(QQ, \"x\")"
   ]
  },
  {
   "cell_type": "code",
   "execution_count": 70,
   "id": "69b7d17a",
   "metadata": {},
   "outputs": [
    {
     "data": {
      "text/html": [
       "7"
      ],
      "text/latex": [
       "7"
      ],
      "text/plain": [
       "7"
      ]
     },
     "metadata": {},
     "output_type": "display_data"
    }
   ],
   "source": [
    "f = x^2 + x + 1\n",
    "f(2)"
   ]
  },
  {
   "cell_type": "code",
   "execution_count": null,
   "id": "ae451a6b",
   "metadata": {},
   "outputs": [
    {
     "name": "stdout",
     "output_type": "stream",
     "text": [
      "f(2, 3) = 31\n",
      "g(1, f) = x^4 + 2*x^2*y^3 + y^6 + 3\n"
     ]
    },
    {
     "data": {
      "text/html": [
       "x^4 + 2*x^2*y^3 + y^6 + 3"
      ],
      "text/latex": [
       "x^{4} + 2 x^{2} y^{3} + y^{6} + 3"
      ],
      "text/plain": [
       "x^4 + 2*x^2*y^3 + y^6 + 3"
      ]
     },
     "metadata": {},
     "output_type": "display_data"
    }
   ],
   "source": [
    "R, (x, y) = QQ[:x, :y]  # shorthand\n",
    "\n",
    "f = x^2 + y^3\n",
    "g = y^2 - x + 4\n",
    "\n",
    "@show f(2, 3)\n",
    "@show g(1, f)"
   ]
  },
  {
   "cell_type": "code",
   "execution_count": 55,
   "id": "a48ba828",
   "metadata": {},
   "outputs": [
    {
     "data": {
      "text/html": [
       "0"
      ],
      "text/latex": [
       "0"
      ],
      "text/plain": [
       "0"
      ]
     },
     "metadata": {},
     "output_type": "display_data"
    }
   ],
   "source": [
    "Z2, x = finite_field(2, \"x\")\n",
    "R, y = Z2[:y]\n",
    "\n",
    "f = y + 1\n",
    "f(1)"
   ]
  },
  {
   "cell_type": "code",
   "execution_count": 82,
   "id": "b571d17b",
   "metadata": {},
   "outputs": [
    {
     "name": "stdout",
     "output_type": "stream",
     "text": [
      "x = ZZMPolyRingElem[x[1, 1] x[1, 2]; x[2, 1] x[2, 2]]\n",
      "y = ZZMPolyRingElem[y[1], y[2], y[3]]\n"
     ]
    },
    {
     "data": {
      "text/plain": [
       "3-element Vector{ZZMPolyRingElem}:\n",
       " y[1]\n",
       " y[2]\n",
       " y[3]"
      ]
     },
     "metadata": {},
     "output_type": "display_data"
    }
   ],
   "source": [
    "S, x, y = polynomial_ring(ZZ, :x => (1:2, 1:2), :y => 1:3)\n",
    "@show x\n",
    "@show y"
   ]
  },
  {
   "cell_type": "markdown",
   "id": "3687abd1",
   "metadata": {},
   "source": [
    "There are many other ring constructors available (see this [list](https://nemocas.github.io/Nemo.jl/stable/constructors/))"
   ]
  },
  {
   "cell_type": "code",
   "execution_count": null,
   "id": "799a91e0",
   "metadata": {},
   "outputs": [
    {
     "name": "stdout",
     "output_type": "stream",
     "text": [
      "ZZ = Integer ring\n",
      "QQ = Rational field\n",
      "QQBar = Algebraic closure of rational field\n",
      "real_field() = Real field\n",
      "complex_field() = Complex field\n",
      "fraction_field(ZZ) = Rational field\n",
      "finite_field(5) = (Prime field of characteristic 5, 0)\n",
      "matrix_space(QQ, 2, 2) = Matrix space of 2 rows and 2 columns over QQ\n"
     ]
    },
    {
     "data": {
      "text/plain": [
       "Matrix space of 2 rows and 2 columns\n",
       "  over rational field"
      ]
     },
     "metadata": {},
     "output_type": "display_data"
    }
   ],
   "source": [
    "@show ZZ\n",
    "@show QQ\n",
    "@show QQBar\n",
    "@show real_field()\n",
    "@show complex_field()\n",
    "@show fraction_field(ZZ)\n",
    "@show finite_field(5)\n",
    "@show matrix_space(QQ, 2, 2)"
   ]
  },
  {
   "cell_type": "markdown",
   "id": "51938013",
   "metadata": {},
   "source": [
    "## Ideals\n",
    "Let $K[x]$ be a polynmoial ring over field $K$. We can define a **polynomial Ideal** $I = \\{f_1,...,f_s\\}$ where $f \\in K[x]$. It has been shown that one can define a direct relationship between ideals and varieties.\n",
    "For our purposes then, ideals represent the *solution set* of a set of polynomials $[f_1,...,f_s]^\\top = 0$.\n",
    "\n",
    "See the [documentation](https://docs.oscar-system.org/stable/CommutativeAlgebra/ideals/) for a full list of features for ideals in Oscar."
   ]
  },
  {
   "cell_type": "code",
   "execution_count": 152,
   "id": "19d9659c",
   "metadata": {},
   "outputs": [
    {
     "data": {
      "text/plain": [
       "Ideal generated by\n",
       "  x^2 - y\n",
       "  x*y^2 - y"
      ]
     },
     "metadata": {},
     "output_type": "display_data"
    }
   ],
   "source": [
    "R, (x,y) = polynomial_ring(QQ, [\"x\",\"y\"])\n",
    "\n",
    "polys = [x^2+-y, x*y^2 -y]\n",
    "\n",
    "I = ideal(R, polys)"
   ]
  },
  {
   "cell_type": "code",
   "execution_count": 153,
   "id": "f442b733",
   "metadata": {},
   "outputs": [
    {
     "name": "stdout",
     "output_type": "stream",
     "text": [
      "base_ring(I) = Multivariate polynomial ring in 2 variables over QQ\n",
      "gens(I) = QQMPolyRingElem[x^2 - y, x*y^2 - y]\n",
      "dim(I) = 0\n"
     ]
    },
    {
     "data": {
      "text/plain": [
       "0"
      ]
     },
     "metadata": {},
     "output_type": "display_data"
    }
   ],
   "source": [
    "@show base_ring(I)\n",
    "@show gens(I)\n",
    "@show dim(I)"
   ]
  },
  {
   "cell_type": "code",
   "execution_count": 154,
   "id": "ddb9e2bf",
   "metadata": {},
   "outputs": [
    {
     "data": {
      "text/plain": [
       "Ideal generated by\n",
       "  x^3\n",
       "  x^2*y\n",
       "  x*y^2\n",
       "  y^3"
      ]
     },
     "metadata": {},
     "output_type": "display_data"
    }
   ],
   "source": [
    "J = ideal(R, [x, y])^3"
   ]
  },
  {
   "cell_type": "code",
   "execution_count": null,
   "id": "5d855908",
   "metadata": {},
   "outputs": [
    {
     "name": "stdout",
     "output_type": "stream",
     "text": [
      "I + J = Ideal (x^2 - y, x*y^2 - y, x^3, x^2*y, x*y^2, y^3)\n",
      "I * J = Ideal with 8 generators\n",
      "intersect(I, J) = Ideal (x^3 - y^3, -x*y^2 + y^4, -x^2*y + x*y^3, -x^3 + x^2*y^2)\n",
      "quotient(I, J) = Ideal (-x + y^2, x*y - 1, x^2 - y)\n"
     ]
    },
    {
     "data": {
      "text/plain": [
       "Ideal generated by\n",
       "  -x + y^2\n",
       "  x*y - 1\n",
       "  x^2 - y"
      ]
     },
     "metadata": {},
     "output_type": "display_data"
    }
   ],
   "source": [
    "@show I + J\n",
    "@show I * J\n",
    "@show intersect(I, J)\n",
    "@show quotient(I, J)"
   ]
  },
  {
   "cell_type": "markdown",
   "id": "0da4ca8f",
   "metadata": {},
   "source": [
    "Several algorithms for ideals are implemented. Note that the following methods compute a Groebner basis in the background."
   ]
  },
  {
   "cell_type": "code",
   "execution_count": null,
   "id": "2ae7fc17",
   "metadata": {},
   "outputs": [
    {
     "data": {
      "text/plain": [
       "Ideal generated by\n",
       "  y^4 - y"
      ]
     },
     "metadata": {},
     "output_type": "display_data"
    }
   ],
   "source": [
    "eliminate(I, [x])  # eliminate x"
   ]
  },
  {
   "cell_type": "code",
   "execution_count": 157,
   "id": "b7588b1e",
   "metadata": {},
   "outputs": [
    {
     "data": {
      "text/plain": [
       "true"
      ]
     },
     "metadata": {},
     "output_type": "display_data"
    }
   ],
   "source": [
    "f = x^3\n",
    "ideal_membership(f, J)"
   ]
  },
  {
   "cell_type": "code",
   "execution_count": null,
   "id": "4fb6268f",
   "metadata": {},
   "outputs": [
    {
     "data": {
      "text/plain": [
       "2-element Vector{Vector{QQFieldElem}}:\n",
       " [1, 1]\n",
       " [0, 0]"
      ]
     },
     "metadata": {},
     "output_type": "display_data"
    }
   ],
   "source": [
    "rational_solutions(I)  # see also real_solutions()"
   ]
  },
  {
   "cell_type": "markdown",
   "id": "9ff32804",
   "metadata": {},
   "source": [
    "## Groebner Basis"
   ]
  },
  {
   "cell_type": "markdown",
   "id": "9d199f1f",
   "metadata": {},
   "source": [
    "A **Groebner Basis** $G = \\{g_1,...,g_r\\}$ is a useful representation of a polynomial ideal $I$ (for some *monomial ordering*). For example, we can try to find $G$ which projects the set of polynomials in $I$ to a system with fewer variables (i.e. variable elimination, similar to Gaussian elimination in linear algebra)."
   ]
  },
  {
   "cell_type": "code",
   "execution_count": 161,
   "id": "858d3cfc",
   "metadata": {},
   "outputs": [
    {
     "data": {
      "text/plain": [
       "Gröbner basis with elements\n",
       "  1: x^2 - y\n",
       "  2: y^3 - x*y\n",
       "  3: x*y^2 - y\n",
       "with respect to the ordering\n",
       "  degrevlex([x, y])"
      ]
     },
     "metadata": {},
     "output_type": "display_data"
    }
   ],
   "source": [
    "R, (x,y) = polynomial_ring(QQ, [\"x\",\"y\"])\n",
    "I = ideal(R, [x^2+-y, x*y^2 -y])\n",
    "groebner_basis(I)"
   ]
  },
  {
   "cell_type": "markdown",
   "id": "e2a34173",
   "metadata": {},
   "source": [
    "The choice of $g \\in G$ is dependent on the *monomial ordering* of the polynomials. Common choices are:\n",
    "- Lexicographical (`lex`) for elimination\n",
    "- Degree Reverse Lexicographical (`degrevlex`) for efficient computation of Groebner basis (default)"
   ]
  },
  {
   "cell_type": "code",
   "execution_count": 163,
   "id": "c4a20a41",
   "metadata": {},
   "outputs": [
    {
     "data": {
      "text/plain": [
       "Gröbner basis with elements\n",
       "  1: y^4 - y\n",
       "  2: x*y - y^3\n",
       "  3: x^2 - y\n",
       "with respect to the ordering\n",
       "  lex([x, y])"
      ]
     },
     "metadata": {},
     "output_type": "display_data"
    }
   ],
   "source": [
    "# can pick a different ordering (degrevlex by default)\n",
    "groebner_basis(I, ordering=lex(R))"
   ]
  },
  {
   "cell_type": "code",
   "execution_count": 164,
   "id": "a7d53539",
   "metadata": {},
   "outputs": [
    {
     "data": {
      "text/plain": [
       "Gröbner basis with elements\n",
       "  1: y^4 - y\n",
       "  2: x*y - y^3\n",
       "  3: x^2 - y\n",
       "with respect to the ordering\n",
       "  lex([x, y])"
      ]
     },
     "metadata": {},
     "output_type": "display_data"
    }
   ],
   "source": [
    "# if dim=0, can use FGLM algorithm\n",
    "@assert dim(I) == 0\n",
    "\n",
    "fglm(I, start_ordering=degrevlex(R), destination_ordering=lex(R))\n",
    "\n",
    "groebner_basis(I, algorithm=:fglm, ordering=lex(R))  # equivalent"
   ]
  },
  {
   "cell_type": "code",
   "execution_count": 165,
   "id": "3df0098a",
   "metadata": {},
   "outputs": [
    {
     "data": {
      "text/plain": [
       "2-element Vector{Vector{QQFieldElem}}:\n",
       " [0, 0]\n",
       " [1, 1]"
      ]
     },
     "metadata": {},
     "output_type": "display_data"
    }
   ],
   "source": [
    "sol = rational_solutions(I)"
   ]
  },
  {
   "cell_type": "code",
   "execution_count": 166,
   "id": "b5b36aca",
   "metadata": {},
   "outputs": [
    {
     "data": {
      "text/plain": [
       "Gröbner basis with elements\n",
       "  1: y^4 - y\n",
       "  2: x*y - y^3\n",
       "  3: x^2 - y\n",
       "with respect to the ordering\n",
       "  lex([x, y])"
      ]
     },
     "metadata": {},
     "output_type": "display_data"
    }
   ],
   "source": [
    "# if not finite dim\n",
    "groebner_walk(I, lex(R), degrevlex(R))"
   ]
  },
  {
   "cell_type": "markdown",
   "id": "16ca0a55",
   "metadata": {},
   "source": [
    "### Fraction field parameters\n",
    "Finding a GB where the parameters (coefficients) are not known"
   ]
  },
  {
   "cell_type": "code",
   "execution_count": 167,
   "id": "13ceb6b4",
   "metadata": {},
   "outputs": [
    {
     "data": {
      "text/plain": [
       "(Multivariate polynomial ring in 2 variables over F, AbstractAlgebra.Generic.MPoly{AbstractAlgebra.Generic.FracFieldElem{QQMPolyRingElem}}[x, y])"
      ]
     },
     "metadata": {},
     "output_type": "display_data"
    }
   ],
   "source": [
    "# Ring of coefficients\n",
    "C, a = polynomial_ring(QQ, \"a\" => 1:6)\n",
    "\n",
    "# Fraction field of coefficients\n",
    "F = fraction_field(C)\n",
    "\n",
    "# Ring of polynomials with coefficients in F\n",
    "R, (x, y) = polynomial_ring(F, [\"x\", \"y\"])"
   ]
  },
  {
   "cell_type": "code",
   "execution_count": 168,
   "id": "67cafc70",
   "metadata": {},
   "outputs": [
    {
     "data": {
      "text/plain": [
       "Ideal generated by\n",
       "  a[1]*x^2 - a[2]*y - a[3]\n",
       "  a[5]*x + a[4]*y^2 - a[5]*y + a[6]"
      ]
     },
     "metadata": {},
     "output_type": "display_data"
    }
   ],
   "source": [
    "polys = [\n",
    "    a[1]*x^2 - a[2]*y - a[3],\n",
    "    a[4]*y^2 + a[5]*(x - y) + a[6]\n",
    "]\n",
    "I = ideal(R, polys)"
   ]
  },
  {
   "cell_type": "code",
   "execution_count": 169,
   "id": "a2aa4db6",
   "metadata": {},
   "outputs": [
    {
     "data": {
      "text/plain": [
       "Gröbner basis with elements\n",
       "  1: -a[1]*a[4]^2*y^4 + 2*a[1]*a[4]*a[5]*y^3 + (-2*a[1]*a[4]*a[6] - a[1]*a[5]^2)*y^2 + (2*a[1]*a[5]*a[6] + a[2]*a[5]^2)*y - a[1]*a[6]^2 + a[3]*a[5]^2\n",
       "  2: -a[5]*x - a[4]*y^2 + a[5]*y - a[6]\n",
       "with respect to the ordering\n",
       "  lex([x, y])"
      ]
     },
     "metadata": {},
     "output_type": "display_data"
    }
   ],
   "source": [
    "groebner_basis(I, algorithm=:fglm, ordering=lex(R))"
   ]
  },
  {
   "cell_type": "code",
   "execution_count": 142,
   "id": "84abbde3",
   "metadata": {},
   "outputs": [],
   "source": []
  }
 ],
 "metadata": {
  "kernelspec": {
   "display_name": "Julia 1.11.7",
   "language": "julia",
   "name": "julia-1.11"
  },
  "language_info": {
   "file_extension": ".jl",
   "mimetype": "application/julia",
   "name": "julia",
   "version": "1.11.7"
  }
 },
 "nbformat": 4,
 "nbformat_minor": 5
}
