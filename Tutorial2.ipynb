{
 "cells": [
  {
   "cell_type": "markdown",
   "id": "d4591b09",
   "metadata": {},
   "source": [
    "# 2. Intro to Catalyst\n",
    "\n",
    "This tutorial has been adapted from the [Catalyst docs](https://docs.sciml.ai/Catalyst/stable/network_analysis/crn_theory/) (see also [here](https://docs.sciml.ai/Catalyst/stable/network_analysis/odes/))."
   ]
  },
  {
   "cell_type": "code",
   "execution_count": null,
   "id": "c8c2e88a",
   "metadata": {},
   "outputs": [],
   "source": [
    "using Pkg\n",
    "Pkg.activate(\".\")"
   ]
  },
  {
   "cell_type": "code",
   "execution_count": null,
   "id": "251d816b",
   "metadata": {},
   "outputs": [],
   "source": [
    "using Catalyst\n",
    "using LinearAlgebra\n",
    "using Latexify"
   ]
  },
  {
   "cell_type": "markdown",
   "id": "c67ad96f",
   "metadata": {},
   "source": [
    "## Constructing CRN\n",
    "Chemical reaction networks are created using the `@reaction_network` macro. Each line represents a reaction: the first entry is the rate parameter, and the second entry is the reaction stoichiometry.\n",
    "\n",
    "The following is an example network from Shinar and Feinberg (2010)."
   ]
  },
  {
   "cell_type": "code",
   "execution_count": null,
   "id": "4463f77d",
   "metadata": {},
   "outputs": [],
   "source": [
    "rn = @reaction_network begin\n",
    "    α, A + B --> 2B\n",
    "    β, B --> A\n",
    "end"
   ]
  },
  {
   "cell_type": "markdown",
   "id": "3c9a1177",
   "metadata": {},
   "source": [
    "Note: use backslash `\\` to type unicode characters e.g. `\\beta<tab>` -> β"
   ]
  },
  {
   "cell_type": "code",
   "execution_count": null,
   "id": "010018b9",
   "metadata": {},
   "outputs": [],
   "source": [
    "# Accessing network variables\n",
    "@show species(rn)\n",
    "@show parameters(rn)\n",
    "@show reactions(rn)\n",
    "\n",
    "# Basic properties\n",
    "@show numspecies(rn)\n",
    "@show numparams(rn)\n",
    "@show numreactions(rn)"
   ]
  },
  {
   "cell_type": "code",
   "execution_count": null,
   "id": "d91eb763",
   "metadata": {},
   "outputs": [],
   "source": [
    "[rn.A, rn.B]"
   ]
  },
  {
   "cell_type": "code",
   "execution_count": null,
   "id": "ed3d2eda",
   "metadata": {},
   "outputs": [],
   "source": [
    "conservedequations(rn)"
   ]
  },
  {
   "cell_type": "code",
   "execution_count": null,
   "id": "d3d704aa",
   "metadata": {},
   "outputs": [],
   "source": [
    "N = netstoichmat(rn) "
   ]
  },
  {
   "cell_type": "code",
   "execution_count": null,
   "id": "e0c86ee2",
   "metadata": {},
   "outputs": [],
   "source": [
    "deficiency(rn)"
   ]
  },
  {
   "cell_type": "markdown",
   "id": "cea5215b",
   "metadata": {},
   "source": [
    "## Example 2\n",
    "We can calculate several relevant properties in chemical reaction network theory."
   ]
  },
  {
   "cell_type": "code",
   "execution_count": null,
   "id": "cbd9d840",
   "metadata": {},
   "outputs": [],
   "source": [
    "rn = @reaction_network begin\n",
    "    (k1,k2), A + B <--> C\n",
    "    k3, C --> D+E\n",
    "    (k4,k5), D+E <--> F\n",
    "    (k6,k7), 2A <--> B+G\n",
    "    k8, B+G --> H\n",
    "    k9, H --> 2A\n",
    "end"
   ]
  },
  {
   "cell_type": "code",
   "execution_count": null,
   "id": "9cbae1cb",
   "metadata": {},
   "outputs": [],
   "source": [
    "conservationlaws(rn)"
   ]
  },
  {
   "cell_type": "code",
   "execution_count": null,
   "id": "0fb9b202",
   "metadata": {},
   "outputs": [],
   "source": [
    "conservedequations(rn)"
   ]
  },
  {
   "cell_type": "code",
   "execution_count": null,
   "id": "43a8807c",
   "metadata": {},
   "outputs": [],
   "source": [
    "s = rank(netstoichmat(rn))"
   ]
  },
  {
   "cell_type": "code",
   "execution_count": null,
   "id": "c6404c1e",
   "metadata": {},
   "outputs": [],
   "source": [
    "nspecies = numspecies(rn)\n",
    "nlaws = length(conservedequations(rn))\n",
    "\n",
    "nspecies - nlaws == s"
   ]
  },
  {
   "cell_type": "code",
   "execution_count": null,
   "id": "2574d5a9",
   "metadata": {},
   "outputs": [],
   "source": [
    "subnets = subnetworks(rn)\n",
    "reactions.(subnets)"
   ]
  },
  {
   "cell_type": "markdown",
   "id": "55aa4b0a",
   "metadata": {},
   "source": [
    "### Plotting networks"
   ]
  },
  {
   "cell_type": "code",
   "execution_count": null,
   "id": "0d28cb91",
   "metadata": {},
   "outputs": [],
   "source": [
    "# additional packages to plot CRN\n",
    "Pkg.add(\"CairoMakie\")\n",
    "Pkg.add(\"GraphMakie\")\n",
    "Pkg.add(\"NetworkLayout\")"
   ]
  },
  {
   "cell_type": "code",
   "execution_count": null,
   "id": "983f0084",
   "metadata": {},
   "outputs": [],
   "source": [
    "import CairoMakie, GraphMakie, NetworkLayout"
   ]
  },
  {
   "cell_type": "code",
   "execution_count": null,
   "id": "4bce6bd8",
   "metadata": {},
   "outputs": [],
   "source": [
    "plot_complexes(subnets[1])"
   ]
  },
  {
   "cell_type": "code",
   "execution_count": null,
   "id": "b65aef69",
   "metadata": {},
   "outputs": [],
   "source": [
    "plot_complexes(subnets[2])"
   ]
  },
  {
   "cell_type": "markdown",
   "id": "cfa83e22",
   "metadata": {},
   "source": [
    "### Deficiency\n",
    "Recall the definition of reaction network deficiency $\\delta$\n",
    "$$\n",
    "\\delta = n - l - s\n",
    "$$\n",
    "where $n$ is the \\# complexes, $l$ is the \\# linkage classes, and $s$ is the rank of the stochiometry matrix."
   ]
  },
  {
   "cell_type": "code",
   "execution_count": null,
   "id": "d319694c",
   "metadata": {},
   "outputs": [],
   "source": [
    "δ = deficiency(rn)"
   ]
  },
  {
   "cell_type": "code",
   "execution_count": null,
   "id": "43a9ab68",
   "metadata": {},
   "outputs": [],
   "source": [
    "n = length(complexes)\n",
    "l = length(linkageclasses(rn))\n",
    "δ == n - l - s"
   ]
  },
  {
   "cell_type": "code",
   "execution_count": null,
   "id": "11993914",
   "metadata": {},
   "outputs": [],
   "source": [
    "# Reversible system\n",
    "rev = @reaction_network begin\n",
    "  (k1,k2),A <--> B\n",
    "  (k3,k4),A + C <--> D\n",
    "  (k5,k6),D <--> B+E\n",
    "  (k7,k8),B+E <--> A+C\n",
    "end\n",
    "@show isreversible(rev)\n",
    "\n",
    "# Weakly reversible system\n",
    "wrev = @reaction_network begin\n",
    "  (k1,k2),A <--> B\n",
    "  k3, A + C --> D\n",
    "  k4, D --> B+E\n",
    "  k5, B+E --> A+C\n",
    "end\n",
    "@show isreversible(wrev)\n",
    "subnets = subnetworks(wrev)\n",
    "@show isweaklyreversible(wrev, subnets)"
   ]
  },
  {
   "cell_type": "code",
   "execution_count": null,
   "id": "d77372ff",
   "metadata": {},
   "outputs": [],
   "source": [
    "rxs = reactions(rn)\n",
    "for rx in rxs\n",
    "    @show rx\n",
    "    @show ismassaction(rx, rn)\n",
    "end"
   ]
  },
  {
   "cell_type": "code",
   "execution_count": null,
   "id": "202932ff",
   "metadata": {},
   "outputs": [],
   "source": [
    "all(rx -> ismassaction(rx, rn), reactions(rn))"
   ]
  },
  {
   "cell_type": "markdown",
   "id": "761e212f",
   "metadata": {},
   "source": [
    "To satisfy the conditions for deficiency zero theorems, we require reaction networks to be *mass action* and have *deficiency zero*. If such a network is *weakly reversible*, then the ODEs will have exactly one equilibrium solution within each positive stoichiometric compatibility class. Otherwise, the ODEs do not have a valid solution"
   ]
  },
  {
   "cell_type": "code",
   "execution_count": null,
   "id": "713fa74a",
   "metadata": {},
   "outputs": [],
   "source": [
    "def0_rn = @reaction_network begin\n",
    "  (k1,k2),A <--> 2B\n",
    "  (k3,k4), A + C <--> D\n",
    "  k5, B+E --> C + D\n",
    "end\n",
    "reactioncomplexes(def0_rn)\n",
    "subnets = subnetworks(def0_rn)\n",
    "isma = all(rx -> ismassaction(rx,def0_rn), reactions(def0_rn))\n",
    "def = deficiency(def0_rn)\n",
    "iswr = isweaklyreversible(def0_rn, subnets)\n",
    "\n",
    "@show isma\n",
    "@show def\n",
    "@show iswr\n",
    "\n",
    "satisfiesdeficiencyzero(def0_rn)"
   ]
  },
  {
   "cell_type": "code",
   "execution_count": null,
   "id": "bb649fdd",
   "metadata": {},
   "outputs": [],
   "source": [
    "satisfiesdeficiencyzero(wrev)"
   ]
  },
  {
   "cell_type": "code",
   "execution_count": null,
   "id": "7aec9791",
   "metadata": {},
   "outputs": [],
   "source": [
    "# Deficiency One\n",
    "def1_network = @reaction_network begin\n",
    "    (k1, k2), A <--> 2B\n",
    "    k3, C --> 2D\n",
    "    k4, 2D --> C + E\n",
    "    (k5, k6), C + E <--> E + 2D\n",
    "end\n",
    "plot_complexes(def1_network);"
   ]
  },
  {
   "cell_type": "code",
   "execution_count": null,
   "id": "d80002d5",
   "metadata": {},
   "outputs": [],
   "source": [
    "@assert satisfiesdeficiencyone(def1_network)\n",
    "deficiency(def1_network)"
   ]
  },
  {
   "cell_type": "markdown",
   "id": "5ebff898",
   "metadata": {},
   "source": [
    "## Reaction Network ODEs\n",
    "\n",
    "There are multiple ways to represent a reaction network as ODEs. See the [docs](https://docs.sciml.ai/Catalyst/stable/network_analysis/odes/)."
   ]
  },
  {
   "cell_type": "markdown",
   "id": "8cc394df",
   "metadata": {},
   "source": [
    "### Stoichiometric form\n",
    "$$\n",
    "\\frac{d\\mathbf{x}}{dt} = N\\mathbf{v}(\\mathbf{x})\n",
    "$$\n",
    "where $\\mathbf{x}(t)$ is the vector of species, $N$ is the stoichiometric matrix, and $\\mathbf{v}(\\mathbf{x})$ is the rate law vector."
   ]
  },
  {
   "cell_type": "code",
   "execution_count": null,
   "id": "59ce92f4",
   "metadata": {},
   "outputs": [],
   "source": [
    "rn = @reaction_network begin\n",
    "    k, 2A + 3B --> A + 2C + D\n",
    "    b, C + D --> 2A + 3B\n",
    "end"
   ]
  },
  {
   "cell_type": "code",
   "execution_count": null,
   "id": "8b66377d",
   "metadata": {},
   "outputs": [],
   "source": [
    "N = netstoichmat(rn)"
   ]
  },
  {
   "cell_type": "code",
   "execution_count": null,
   "id": "b9d7005f",
   "metadata": {},
   "outputs": [],
   "source": [
    "v = oderatelaw.(reactions(rn), combinatoric_ratelaw=false)"
   ]
  },
  {
   "cell_type": "code",
   "execution_count": null,
   "id": "36e610fa",
   "metadata": {},
   "outputs": [],
   "source": [
    "# NB oderatelaw may not be mass action\n",
    "rx = @reaction hillr(X, α, K, n), 0 --> Y\n",
    "oderatelaw(rx)"
   ]
  },
  {
   "cell_type": "markdown",
   "id": "a5ca1ec2",
   "metadata": {},
   "source": [
    "NB: if `combinatoric_ratelaw=true` then a scaling factor of $1/k!$ is applied where $k$ is the coefficient."
   ]
  },
  {
   "cell_type": "code",
   "execution_count": null,
   "id": "06d8dda1",
   "metadata": {},
   "outputs": [],
   "source": [
    "# NB oderatelaw may not be mass action\n",
    "rx = @reaction β, 3X --> Y\n",
    "oderatelaw(rx)"
   ]
  },
  {
   "cell_type": "code",
   "execution_count": null,
   "id": "bf1969cb",
   "metadata": {},
   "outputs": [],
   "source": [
    "N * v"
   ]
  },
  {
   "cell_type": "code",
   "execution_count": null,
   "id": "edc6e209",
   "metadata": {},
   "outputs": [],
   "source": [
    "odesys = convert(ODESystem, rn, combinatoric_ratelaws=false)"
   ]
  },
  {
   "cell_type": "markdown",
   "id": "437df27e",
   "metadata": {},
   "source": [
    "### Complex representation\n",
    "$$\n",
    "\\frac{d\\mathbf{x}}{dt} = ZB\\mathbf{v}(\\mathbf{x})\n",
    "$$"
   ]
  },
  {
   "cell_type": "code",
   "execution_count": null,
   "id": "a6cd3c1e",
   "metadata": {},
   "outputs": [],
   "source": [
    "rn"
   ]
  },
  {
   "cell_type": "code",
   "execution_count": null,
   "id": "cddc345b",
   "metadata": {},
   "outputs": [],
   "source": [
    "x = species(rn)"
   ]
  },
  {
   "cell_type": "code",
   "execution_count": null,
   "id": "daf0181f",
   "metadata": {},
   "outputs": [],
   "source": [
    "Z = complexstoichmat(rn)"
   ]
  },
  {
   "cell_type": "code",
   "execution_count": null,
   "id": "2d614ade",
   "metadata": {},
   "outputs": [],
   "source": [
    "# NB: Z' is the transpose of Z\n",
    "Z' * x"
   ]
  },
  {
   "cell_type": "code",
   "execution_count": null,
   "id": "ac8320f9",
   "metadata": {},
   "outputs": [],
   "source": [
    "B = incidencemat(rn)"
   ]
  },
  {
   "cell_type": "code",
   "execution_count": null,
   "id": "c3f40e36",
   "metadata": {},
   "outputs": [],
   "source": [
    "N == Z*B"
   ]
  },
  {
   "cell_type": "markdown",
   "id": "c2bb3fd3",
   "metadata": {},
   "source": [
    "The reaction rate vector can also be defined as\n",
    "$$\n",
    "\\mathbf{v}(\\mathbf{x}) = K\\Phi(\\mathbf{x})\n",
    "$$\n",
    "where $K$ is the *flux matrix* and $\\Phi(\\mathbf{x})$ is the vector of *monomials* that define the mass action rate laws."
   ]
  },
  {
   "cell_type": "code",
   "execution_count": null,
   "id": "9204c797",
   "metadata": {},
   "outputs": [],
   "source": [
    "K = fluxmat(rn)"
   ]
  },
  {
   "cell_type": "code",
   "execution_count": null,
   "id": "cd8ef5df",
   "metadata": {},
   "outputs": [],
   "source": [
    "Φ = massactionvector(rn; combinatoric_ratelaws=false)"
   ]
  },
  {
   "cell_type": "code",
   "execution_count": null,
   "id": "33441c97",
   "metadata": {},
   "outputs": [],
   "source": [
    "K * Φ"
   ]
  },
  {
   "cell_type": "markdown",
   "id": "9b2f80dd",
   "metadata": {},
   "source": [
    "Lastly, $A_k = BK$ is the negative of the weighted *Laplacian matrix* of the reaction network."
   ]
  },
  {
   "cell_type": "code",
   "execution_count": null,
   "id": "0d3bbbf9",
   "metadata": {},
   "outputs": [],
   "source": [
    "A_k = laplacianmat(rn)"
   ]
  },
  {
   "cell_type": "markdown",
   "id": "f5d48866",
   "metadata": {},
   "source": [
    "$$\n",
    "\\begin{align*}\n",
    "    \\frac{d\\mathbf{x}}{dt} &= N\\mathbf{v}\\\\\n",
    "    &= NK\\Phi\\\\\n",
    "    &= ZBK\\Phi\\\\\n",
    "    &= ZA_k\\Phi\n",
    "\\end{align*}\n",
    "$$"
   ]
  },
  {
   "cell_type": "markdown",
   "id": "a9a2cba5",
   "metadata": {},
   "source": [
    "## Other useful functions"
   ]
  },
  {
   "cell_type": "markdown",
   "id": "ce43a545",
   "metadata": {},
   "source": [
    "See the [API docs](https://docs.sciml.ai/Catalyst/stable/api/network_analysis_api/) for more info."
   ]
  },
  {
   "cell_type": "code",
   "execution_count": null,
   "id": "85d2260d",
   "metadata": {},
   "outputs": [],
   "source": [
    "rn = @reaction_network begin\n",
    "  (k1,k2),A <--> B\n",
    "  k3, A + C --> D\n",
    "  k4, D --> B+E\n",
    "  k5, B+E --> A+C\n",
    "end"
   ]
  },
  {
   "cell_type": "code",
   "execution_count": null,
   "id": "777c9869",
   "metadata": {},
   "outputs": [],
   "source": [
    "rates = Dict([:k1 => 2.4, :k2 => 4., :k3 => 10., :k4 => 5.5, :k5 => 0.4])\n",
    "@show iscomplexbalanced(rn, rates)\n",
    "@show isdetailedbalanced(rn, rates)"
   ]
  },
  {
   "cell_type": "code",
   "execution_count": null,
   "id": "a0e1423a",
   "metadata": {},
   "outputs": [],
   "source": [
    "rn"
   ]
  },
  {
   "cell_type": "markdown",
   "id": "98c709c4",
   "metadata": {},
   "source": [
    "Substrate $S$ and product $P$ stoichiometry matrices. Note that $N = P - S$"
   ]
  },
  {
   "cell_type": "code",
   "execution_count": null,
   "id": "d8322760",
   "metadata": {},
   "outputs": [],
   "source": [
    "display(substoichmat(rn))\n",
    "display(prodstoichmat(rn))\n",
    "display(netstoichmat(rn))"
   ]
  }
 ],
 "metadata": {
  "kernelspec": {
   "display_name": "Julia 1.11.7",
   "language": "julia",
   "name": "julia-1.11"
  },
  "language_info": {
   "file_extension": ".jl",
   "mimetype": "application/julia",
   "name": "julia",
   "version": "1.11.7"
  }
 },
 "nbformat": 4,
 "nbformat_minor": 5
}
