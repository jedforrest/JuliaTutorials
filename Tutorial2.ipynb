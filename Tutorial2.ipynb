{
 "cells": [
  {
   "cell_type": "markdown",
   "id": "5f1e0ed0",
   "metadata": {},
   "source": [
    "# Intro to Catalyst\n",
    "This tutorial has been adapted from the Catalyst.jl [docs](https://docs.sciml.ai/Catalyst/stable/introduction_to_catalyst/catalyst_for_new_julia_users/)."
   ]
  },
  {
   "cell_type": "code",
   "execution_count": 1,
   "id": "5b8c8343",
   "metadata": {},
   "outputs": [
    {
     "name": "stderr",
     "output_type": "stream",
     "text": [
      "\u001b[32m\u001b[1m  Activating\u001b[22m\u001b[39m new project at `~/Documents/repos/JuliaTutorials`\n"
     ]
    }
   ],
   "source": [
    "using Pkg\n",
    "Pkg.activate(\".\")"
   ]
  },
  {
   "cell_type": "code",
   "execution_count": null,
   "id": "486b7490",
   "metadata": {},
   "outputs": [],
   "source": [
    "# This code cell only needs to be run once\n",
    "Pkg.add(\"Catalyst\")\n",
    "Pkg.add(\"OrdinaryDiffEqDefault\")\n",
    "Pkg.add(\"Plots\")"
   ]
  },
  {
   "cell_type": "code",
   "execution_count": null,
   "id": "af4e9089",
   "metadata": {},
   "outputs": [],
   "source": [
    "using Catalyst\n",
    "using OrdinaryDiffEqDefault\n",
    "using Plots"
   ]
  }
 ],
 "metadata": {
  "kernelspec": {
   "display_name": "Julia 1.11.6",
   "language": "julia",
   "name": "julia-1.11"
  },
  "language_info": {
   "file_extension": ".jl",
   "mimetype": "application/julia",
   "name": "julia",
   "version": "1.11.6"
  }
 },
 "nbformat": 4,
 "nbformat_minor": 5
}
