{
 "cells": [
  {
   "cell_type": "markdown",
   "id": "252fb99c",
   "metadata": {},
   "source": [
    "# 1. Getting Started\n",
    "\n",
    "Julia is a general-purpose programming language that includes many powerful mathematical modelling packages.\n",
    "We will use it primarily for modelling chemical reaction networks and symbolic computational algebra.\n",
    "\n",
    "This notebook shows how to set up the Julia environment and basic syntax."
   ]
  },
  {
   "cell_type": "markdown",
   "id": "fe370f6f",
   "metadata": {},
   "source": [
    "## Installation\n",
    "\n",
    "You you will need to install the following:\n",
    "- [Julia](https://julialang.org/install/)\n",
    "- A program which can run Jupyter notebooks (such as [VSCode](https://code.visualstudio.com/download) or JupyterLab).\n",
    "  \n",
    "Optional:\n",
    "- juliaup (see [here](https://julialang.org/install/)) to manage updates and multiple versions\n",
    "- [Git](https://git-scm.com/) to download these tutorials from [GitHub](https://github.com/jedforrest/JuliaTutorials) directly\n",
    "\n",
    "\n",
    "Tutorials can be downloaded directly from [GitHub](https://github.com/jedforrest/JuliaTutorials) or by running the following command:\n",
    "\n",
    "`git clone https://github.com/jedforrest/JuliaTutorials.git`"
   ]
  },
  {
   "cell_type": "markdown",
   "id": "6a3b306b",
   "metadata": {},
   "source": [
    "### Adding packages\n",
    "There are two ways to add packages in Julia: through the Julia REPL or within Julia itself."
   ]
  },
  {
   "cell_type": "markdown",
   "id": "e249e05f",
   "metadata": {},
   "source": [
    "#### Julia REPL\n",
    "\n",
    "1. Run `julia` in any terminal to open the Julia REPL (Julia REPL begins with `julia>`).\n",
    "2. Type `]` to enter \"package mode\". You should see something like `(@v1.11) pkg>`.\n",
    "3. Optional: Run `activate .` to create a package environment in the current directory (this is similar to Python's venv).\n",
    "4. Run `add Catalyst` to install Catalyst.jl (and all required dependicies)\n",
    "5. Press backspace to exit package mode\n",
    "\n",
    "Two other environments worth knowing about:\n",
    "- `?` for help\n",
    "- `;` for shell"
   ]
  },
  {
   "cell_type": "markdown",
   "id": "8366a06a",
   "metadata": {},
   "source": [
    "#### Adding packages within Julia\n",
    "These are the packages we will need to install to get started"
   ]
  },
  {
   "cell_type": "code",
   "execution_count": null,
   "id": "fa2d93bc",
   "metadata": {},
   "outputs": [],
   "source": [
    "using Pkg\n",
    "Pkg.activate(\".\")\n",
    "Pkg.add(\"Catalyst\")\n",
    "Pkg.add(\"Plots\")\n",
    "Pkg.add(\"Latexify\")\n",
    "Pkg.add(\"OrdinaryDiffEq\")"
   ]
  },
  {
   "cell_type": "markdown",
   "id": "ec3e4e5c",
   "metadata": {},
   "source": [
    "## Basic usage"
   ]
  },
  {
   "cell_type": "markdown",
   "id": "c3cf5eac",
   "metadata": {},
   "source": [
    "Julia's syntax is based on similar modern languages such as MATLAB, R, and Python."
   ]
  },
  {
   "cell_type": "code",
   "execution_count": null,
   "id": "e3d8d331",
   "metadata": {},
   "outputs": [],
   "source": [
    "x = 1:2:100\n",
    "sum(x.^2)"
   ]
  },
  {
   "cell_type": "code",
   "execution_count": null,
   "id": "63ac48c7",
   "metadata": {},
   "outputs": [],
   "source": [
    "# Functions\n",
    "function myfunc(input)\n",
    "    output = input^3\n",
    "    output  # the last line of a function is returned\n",
    "end\n",
    "\n",
    "println(myfunc(555))\n",
    "\n",
    "# inline functions\n",
    "f(x) = 3x^2 + 2x + 1\n",
    "g(y) = 1 / (1 - y)\n",
    "\n",
    "g(f(2))"
   ]
  },
  {
   "cell_type": "code",
   "execution_count": null,
   "id": "079f2986",
   "metadata": {},
   "outputs": [],
   "source": [
    "# Arrays\n",
    "v = [1.0, 3, 5//9]  # Vector\n",
    "M = [\n",
    "    1 2 3  \n",
    "    4 5 6\n",
    "    7 8 9\n",
    "]  # Matrix\n",
    "\n",
    "x = M * v\n",
    "println(x)\n",
    "println(x[1])  # Arrays are 1-indexed\n",
    "\n",
    "# operations and functions can be broadcast elementwise over collections\n",
    "y = v .+ 20\n",
    "println(y)\n",
    "\n",
    "theta = 0:(pi/4):2pi\n",
    "z = sin.(theta) # note the '.' before the '('\n",
    "println(z)"
   ]
  },
  {
   "cell_type": "code",
   "execution_count": null,
   "id": "9fce365c",
   "metadata": {},
   "outputs": [],
   "source": [
    "using LinearAlgebra  # \"Core\" packages don't need to be downloaded\n",
    "\n",
    "A = rand(3, 3)\n",
    "\n",
    "detA = det(A)\n",
    "eigA = eigvals(A)\n",
    "\n",
    "println(detA)\n",
    "println(eigA)"
   ]
  },
  {
   "cell_type": "code",
   "execution_count": null,
   "id": "539ff51c",
   "metadata": {},
   "outputs": [],
   "source": [
    "# Plotting\n",
    "# Credit: https://discourse.julialang.org/t/seven-lines-of-julia-examples-sought/50416/10\n",
    "using Plots\n",
    "function mandelbrot(z) w = z\n",
    "    for n in 1:74\n",
    "        abs2(w) < 4 ? w = w^2 + z : return n\n",
    "    end; 75\n",
    "end\n",
    "x, y = range(-0.65, -0.45; length=1600), range(0.51, 0.71; length=1600)\n",
    "heatmap(x, y, -log.(mandelbrot.(x' .+ y .* im)); aspect_ratio=1)"
   ]
  },
  {
   "cell_type": "markdown",
   "id": "7ecda784",
   "metadata": {},
   "source": [
    "Most functions have documentation included which can be accessed with the `@doc` macro e.g. `@doc abs`"
   ]
  },
  {
   "cell_type": "code",
   "execution_count": null,
   "id": "2198e837",
   "metadata": {},
   "outputs": [],
   "source": [
    "@doc tr"
   ]
  }
 ],
 "metadata": {
  "kernelspec": {
   "display_name": "Julia 1.11.7",
   "language": "julia",
   "name": "julia-1.11"
  },
  "language_info": {
   "file_extension": ".jl",
   "mimetype": "application/julia",
   "name": "julia",
   "version": "1.11.7"
  }
 },
 "nbformat": 4,
 "nbformat_minor": 5
}
