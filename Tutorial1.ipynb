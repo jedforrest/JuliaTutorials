{
 "cells": [
  {
   "cell_type": "markdown",
   "id": "252fb99c",
   "metadata": {},
   "source": [
    "# Intro to Julia\n",
    "This tutorial has been adapted from the Catalyst.jl [docs](https://docs.sciml.ai/Catalyst/stable/introduction_to_catalyst/catalyst_for_new_julia_users/)."
   ]
  },
  {
   "cell_type": "code",
   "execution_count": 45,
   "id": "0d7aa6f4",
   "metadata": {},
   "outputs": [],
   "source": [
    "#TODO\n",
    "#demo code showing whats possible"
   ]
  },
  {
   "cell_type": "markdown",
   "id": "ec3e4e5c",
   "metadata": {},
   "source": [
    "## Basic usage"
   ]
  },
  {
   "cell_type": "markdown",
   "id": "c3cf5eac",
   "metadata": {},
   "source": [
    "*Values* can be stored in *variables* and used in simple computations."
   ]
  },
  {
   "cell_type": "code",
   "execution_count": 3,
   "id": "927437c3",
   "metadata": {},
   "outputs": [
    {
     "data": {
      "text/plain": [
       "8.0"
      ]
     },
     "metadata": {},
     "output_type": "display_data"
    }
   ],
   "source": [
    "length = 2.0\n",
    "width = 4.0\n",
    "area = length * width"
   ]
  },
  {
   "cell_type": "markdown",
   "id": "e9ad0aa4",
   "metadata": {},
   "source": [
    "*Functions* take one or more arguments (enclosed by `()`) and return one or more outputs. Many standard mathematical functions are included."
   ]
  },
  {
   "cell_type": "code",
   "execution_count": 5,
   "id": "ecd755b0",
   "metadata": {},
   "outputs": [
    {
     "data": {
      "text/plain": [
       "1.0"
      ]
     },
     "metadata": {},
     "output_type": "display_data"
    }
   ],
   "source": [
    "min(1.0, 3.0)"
   ]
  },
  {
   "cell_type": "code",
   "execution_count": 7,
   "id": "dd858e0d",
   "metadata": {},
   "outputs": [
    {
     "data": {
      "text/plain": [
       "10.0"
      ]
     },
     "metadata": {},
     "output_type": "display_data"
    }
   ],
   "source": [
    "sqrt(100)"
   ]
  },
  {
   "cell_type": "code",
   "execution_count": 18,
   "id": "8712f510",
   "metadata": {},
   "outputs": [
    {
     "data": {
      "text/plain": [
       "1.0"
      ]
     },
     "metadata": {},
     "output_type": "display_data"
    }
   ],
   "source": [
    "sin(pi/2)  # pi is a specially defined constant in julia"
   ]
  },
  {
   "cell_type": "markdown",
   "id": "f61f60cd",
   "metadata": {},
   "source": [
    "Note above the code comment following the `#` character. Comments do not affect the output so are useful for annotating code.\n",
    "\n",
    "Custom functions can also be defined using the `function` keyword."
   ]
  },
  {
   "cell_type": "code",
   "execution_count": 23,
   "id": "63ac48c7",
   "metadata": {},
   "outputs": [
    {
     "data": {
      "text/plain": [
       "308025"
      ]
     },
     "metadata": {},
     "output_type": "display_data"
    }
   ],
   "source": [
    "function myfunc(input)\n",
    "    output = input ^ 2\n",
    "    return output\n",
    "end\n",
    "\n",
    "out = myfunc(555)"
   ]
  },
  {
   "cell_type": "code",
   "execution_count": null,
   "id": "816ddc39",
   "metadata": {},
   "outputs": [
    {
     "data": {
      "text/plain": [
       "-0.0625"
      ]
     },
     "metadata": {},
     "output_type": "display_data"
    }
   ],
   "source": [
    "# inline function definitions\n",
    "f(x) = 3x^2 + 2x + 1\n",
    "g(y) = 1 / (1 - y)\n",
    "\n",
    "g(f(2))"
   ]
  },
  {
   "cell_type": "markdown",
   "id": "2fd180bf",
   "metadata": {},
   "source": [
    "Most functions have documentation included which can be accessed with the `@doc` macro e.g. `@doc abs`"
   ]
  },
  {
   "cell_type": "markdown",
   "id": "28ff6222",
   "metadata": {},
   "source": [
    "### Loops and control flow"
   ]
  },
  {
   "cell_type": "markdown",
   "id": "8813ee68",
   "metadata": {},
   "source": [
    "Often we might want to run code multiple times over a range of values. There are many ways to do this in code, but one of the most common is with a `for` loop. Here we loop over a list of values and print out the partial sums at each step."
   ]
  },
  {
   "cell_type": "code",
   "execution_count": 48,
   "id": "0d2da22c",
   "metadata": {},
   "outputs": [
    {
     "name": "stdout",
     "output_type": "stream",
     "text": [
      "1 4 9 16 25 "
     ]
    }
   ],
   "source": [
    "total = 0\n",
    "values = [1, 3, 5, 7, 9]  # list of values stored in a list\n",
    "\n",
    "for val in values\n",
    "    total += val  # '+=' is shorthand for \"total = total + val\"\n",
    "    print(total, \" \")\n",
    "end"
   ]
  },
  {
   "cell_type": "markdown",
   "id": "1f5b93ef",
   "metadata": {},
   "source": [
    "Another approach or trick that julia uses is to *broadcast* a function across an array. This means the function is applied to each element of a list in a computationally efficient way. (This is similar to vectorised code in other languages.)\n",
    "\n",
    "Broadcasted functions have a `.` before the operation or function call (those familiar with MATLAB will recognise this notation)."
   ]
  },
  {
   "cell_type": "code",
   "execution_count": 71,
   "id": "d62494f9",
   "metadata": {},
   "outputs": [
    {
     "name": "stdout",
     "output_type": "stream",
     "text": [
      "[12, 13, 15]\n"
     ]
    },
    {
     "data": {
      "text/plain": [
       "25502500"
      ]
     },
     "metadata": {},
     "output_type": "display_data"
    }
   ],
   "source": [
    "values = [2, 3, 5] .+ 10\n",
    "println(values)\n",
    "\n",
    "cube(x) = x^3\n",
    "x_list = 1:100  # shorthand for listing numbers 1 to 100\n",
    "cube_list = cube.(x_list)  # note the `.`\n",
    "sum(cube_list)"
   ]
  },
  {
   "cell_type": "markdown",
   "id": "2afcd7c4",
   "metadata": {},
   "source": [
    "Another fundamental concept is logic or control flow. We can test for equality or some other `true`/`false` condition and branch on the different outcomes."
   ]
  },
  {
   "cell_type": "code",
   "execution_count": 60,
   "id": "0a528c88",
   "metadata": {},
   "outputs": [
    {
     "name": "stdout",
     "output_type": "stream",
     "text": [
      "b is larger\n"
     ]
    }
   ],
   "source": [
    "2 + 2 == 4  # equal\n",
    "2 + 2 != 5  # not equal\n",
    "\n",
    "a = 4\n",
    "b = 6\n",
    "(a > 1) && (b < 10) # AND\n",
    "(a > 1) && (b < 10) # OR\n",
    "!(a + b > 10) # NOT\n",
    "\n",
    "if a > b\n",
    "    println(\"a is larger\")\n",
    "else\n",
    "    println(\"b is larger\")\n",
    "end"
   ]
  },
  {
   "cell_type": "markdown",
   "id": "0ba46008",
   "metadata": {},
   "source": [
    "### Numeric Types"
   ]
  },
  {
   "cell_type": "markdown",
   "id": "0ba2ed75",
   "metadata": {},
   "source": [
    "*Types* are fundamental to how values are stored in julia. Although not necessary to understand to run most code, Type errors are a common source of bugs in code.\n",
    "\n",
    "Different kinds of numbers are represented: `Int`, `Rational`, `Float64`, `Complex`."
   ]
  },
  {
   "cell_type": "code",
   "execution_count": null,
   "id": "8240a89e",
   "metadata": {},
   "outputs": [
    {
     "data": {
      "text/plain": [
       "(Int64, Rational{Int64}, Float64, Complex{Int64})"
      ]
     },
     "metadata": {},
     "output_type": "display_data"
    }
   ],
   "source": [
    "a = 1  # Integer\n",
    "b = 2//3  # Rational\n",
    "c = 4.0  # Floating point (\"Real\")\n",
    "d = 5 + 6im  # Complex\n",
    "\n",
    "typeof.((a, b, c, d))"
   ]
  },
  {
   "cell_type": "markdown",
   "id": "e5bc42fc",
   "metadata": {},
   "source": [
    "Important to note that different representations of the 'same' value will in general not be the same and may have different behaviour."
   ]
  },
  {
   "cell_type": "markdown",
   "id": "2dbc1e37",
   "metadata": {},
   "source": [
    "### Strings"
   ]
  },
  {
   "cell_type": "markdown",
   "id": "f647cfb3",
   "metadata": {},
   "source": [
    "`String`s are used to store arbitrary text. These are essentially an \"array\" of characters, which means they can also be indexed.\n",
    "\n",
    "(Note that in Julia, strings must only use double quotes `\" \"`)"
   ]
  },
  {
   "cell_type": "code",
   "execution_count": null,
   "id": "aa6dd06c",
   "metadata": {},
   "outputs": [
    {
     "name": "stdout",
     "output_type": "stream",
     "text": [
      "This is a string\n",
      "This is\n"
     ]
    },
    {
     "data": {
      "text/plain": [
       "false"
      ]
     },
     "metadata": {},
     "output_type": "display_data"
    }
   ],
   "source": [
    "str = \"This is a string\"\n",
    "println(str)\n",
    "\n",
    "# strings can be indexed like arrays\n",
    "println(str[1:7])\n",
    "\n",
    "# false\n",
    "\"5\" != 5"
   ]
  },
  {
   "cell_type": "markdown",
   "id": "102df96e",
   "metadata": {},
   "source": [
    "Strings can be concatenated with 'multiplication' `*`. An interesting implication is how this applies to other functions which use multiplication."
   ]
  },
  {
   "cell_type": "code",
   "execution_count": 73,
   "id": "b24249c6",
   "metadata": {},
   "outputs": [
    {
     "name": "stdout",
     "output_type": "stream",
     "text": [
      "This is a string, again\n"
     ]
    },
    {
     "data": {
      "text/plain": [
       "\"This is a stringThis is a string\""
      ]
     },
     "metadata": {},
     "output_type": "display_data"
    }
   ],
   "source": [
    "str2 = str * \", again\"\n",
    "println(str2)\n",
    "\n",
    "myfunc(str)"
   ]
  },
  {
   "cell_type": "markdown",
   "id": "b64332a7",
   "metadata": {},
   "source": [
    "`Symbols` are a unique type for Julia and are written with a `:` prefix. Symbols can be used as fixed pieces of 'code' and are used in a variety of ways (more on this in a later tutorial)."
   ]
  },
  {
   "cell_type": "code",
   "execution_count": 61,
   "id": "abcefb02",
   "metadata": {},
   "outputs": [
    {
     "data": {
      "text/plain": [
       ":Julia"
      ]
     },
     "metadata": {},
     "output_type": "display_data"
    }
   ],
   "source": [
    ":Julia"
   ]
  },
  {
   "cell_type": "markdown",
   "id": "be266c0f",
   "metadata": {},
   "source": [
    "## Example: Linear Algebra"
   ]
  },
  {
   "cell_type": "code",
   "execution_count": null,
   "id": "1783d179",
   "metadata": {},
   "outputs": [],
   "source": [
    "using LinearAlgebra\n",
    "\n",
    "# TODO lin alg examples"
   ]
  },
  {
   "cell_type": "markdown",
   "id": "38252e46",
   "metadata": {},
   "source": [
    "## Example: Plots"
   ]
  },
  {
   "cell_type": "markdown",
   "id": "93aba248",
   "metadata": {},
   "source": [
    "Other packages will need to be downloaded first. This can be done with the following code, or in the `Pkg` environment of the Julia terminal."
   ]
  },
  {
   "cell_type": "code",
   "execution_count": null,
   "id": "569234ea",
   "metadata": {},
   "outputs": [],
   "source": [
    "using Pkg\n",
    "Pkg.add(\"\")  # TODO"
   ]
  }
 ],
 "metadata": {
  "kernelspec": {
   "display_name": "Julia 1.11.6",
   "language": "julia",
   "name": "julia-1.11"
  },
  "language_info": {
   "file_extension": ".jl",
   "mimetype": "application/julia",
   "name": "julia",
   "version": "1.11.6"
  }
 },
 "nbformat": 4,
 "nbformat_minor": 5
}
