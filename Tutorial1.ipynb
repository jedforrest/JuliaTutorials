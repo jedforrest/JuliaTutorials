{
 "cells": [
  {
   "cell_type": "markdown",
   "id": "252fb99c",
   "metadata": {},
   "source": [
    "# Intro to Julia"
   ]
  },
  {
   "cell_type": "markdown",
   "id": "fcd39405",
   "metadata": {},
   "source": [
    "Julia is a high-level mathematical programming language that is flexible and fast. There are many powerful packages available in the ecosystem, but for our purposes we are mainly interested in modelling chemical reaction networks and symbolic computational algebra.\n",
    "\n",
    "Below is a brief summary of the basic features of Julia, and key difference with other popular languages."
   ]
  },
  {
   "cell_type": "code",
   "execution_count": 45,
   "id": "0d7aa6f4",
   "metadata": {},
   "outputs": [],
   "source": [
    "#TODO\n",
    "#demo code showing whats possible"
   ]
  },
  {
   "cell_type": "markdown",
   "id": "2a463167",
   "metadata": {},
   "source": [
    "### Structure\n",
    "- Installing\n",
    "- Julia syntax\n",
    "- Differences with other languages\n",
    "- Simple Catalyst example with plots\n",
    "- helpful resources"
   ]
  },
  {
   "cell_type": "markdown",
   "id": "b8de9e95",
   "metadata": {},
   "source": [
    "Other packages will need to be downloaded first. This can be done with the following code, or in the `Pkg` environment of the Julia terminal."
   ]
  },
  {
   "cell_type": "code",
   "execution_count": null,
   "id": "fa2d93bc",
   "metadata": {},
   "outputs": [],
   "source": [
    "#TODO installing packages\n",
    "using Pkg\n",
    "Pkg.activate(\".\")\n",
    "\n",
    "Pkg.add(\"Symbolics\")\n",
    "Pkg.add(\"Plots\")"
   ]
  },
  {
   "cell_type": "markdown",
   "id": "ec3e4e5c",
   "metadata": {},
   "source": [
    "## Basic usage"
   ]
  },
  {
   "cell_type": "markdown",
   "id": "c3cf5eac",
   "metadata": {},
   "source": [
    "Julia's syntax is based on similar modern languages such as MATLAB, R, and Python."
   ]
  },
  {
   "cell_type": "code",
   "execution_count": null,
   "id": "7c6fdce2",
   "metadata": {},
   "outputs": [
    {
     "data": {
      "text/plain": [
       "true"
      ]
     },
     "metadata": {},
     "output_type": "display_data"
    }
   ],
   "source": [
    "# Numeric Types\n",
    "a = 1  # Integer\n",
    "b = 2//3  # Rational\n",
    "c = 4.0  # Floating point (\"Real\")\n",
    "d = 5 + 6im  # Complex"
   ]
  },
  {
   "cell_type": "code",
   "execution_count": 48,
   "id": "8d23db4a",
   "metadata": {},
   "outputs": [
    {
     "data": {
      "text/plain": [
       "(Int64, Signed, Integer, Real, Number, Any)"
      ]
     },
     "metadata": {},
     "output_type": "display_data"
    }
   ],
   "source": [
    "# Type hierarchy\n",
    "typeof(a) == Int\n",
    "typeof(c) == Float64\n",
    "\n",
    "b isa Rational\n",
    "c isa Real\n",
    "\n",
    "supertypes(Int)"
   ]
  },
  {
   "cell_type": "code",
   "execution_count": null,
   "id": "079f2986",
   "metadata": {},
   "outputs": [
    {
     "name": "stdout",
     "output_type": "stream",
     "text": [
      "[8.666666666666666, 22.333333333333332, 36.0]\n"
     ]
    },
    {
     "data": {
      "text/plain": [
       "8.666666666666666"
      ]
     },
     "metadata": {},
     "output_type": "display_data"
    }
   ],
   "source": [
    "using LinearAlgebra  # TODO\n",
    "\n",
    "# Collections\n",
    "v = [1.0, 3, 5//9]  # Vector\n",
    "M = [\n",
    "    1 2 3  \n",
    "    4 5 6\n",
    "    7 8 9\n",
    "]  # Matrix\n",
    "\n",
    "x = M * v\n",
    "println(x)\n",
    "x[1]  # Arrays are 1-indexed"
   ]
  },
  {
   "cell_type": "code",
   "execution_count": null,
   "id": "8948502f",
   "metadata": {},
   "outputs": [
    {
     "name": "stdout",
     "output_type": "stream",
     "text": [
      "1 \n",
      "9 \n",
      "25 \n",
      "49 \n",
      "81 \n",
      "key_1 -> value_1\n",
      "key_2 -> value_2\n",
      "2 6 42 1806 "
     ]
    }
   ],
   "source": [
    "# Loops\n",
    "for i in 1:2:9  # from 1 to 9 with stepsize = 2\n",
    "    println(i^2, \" \")\n",
    "end\n",
    "\n",
    "dict = Dict(\"key_1\" => \"value_1\", \"key_2\" => \"value_2\")\n",
    "for (key, val) in dict\n",
    "    println(\"$key -> $val\")\n",
    "end\n",
    "\n",
    "x = 1\n",
    "while x <= 100\n",
    "    x *= x + 1\n",
    "    print(x, \" \")\n",
    "end"
   ]
  },
  {
   "cell_type": "code",
   "execution_count": 17,
   "id": "4c80e44a",
   "metadata": {},
   "outputs": [
    {
     "name": "stdout",
     "output_type": "stream",
     "text": [
      "1 is larger than 2//3\n"
     ]
    }
   ],
   "source": [
    "# Control flow\n",
    "(a > 1) && (b < 10) # AND\n",
    "(a > 1) || (b < 10) # OR\n",
    "!(a + b > 10) # NOT\n",
    "\n",
    "if a > b\n",
    "    println(\"$a is larger than $b\")\n",
    "elseif c >= b\n",
    "    println(\"$c is larger than $b\")\n",
    "else\n",
    "    println(\"Something else\")\n",
    "end"
   ]
  },
  {
   "cell_type": "code",
   "execution_count": 37,
   "id": "63ac48c7",
   "metadata": {},
   "outputs": [
    {
     "name": "stdout",
     "output_type": "stream",
     "text": [
      "170953875\n"
     ]
    },
    {
     "data": {
      "text/plain": [
       "-0.0625"
      ]
     },
     "metadata": {},
     "output_type": "display_data"
    }
   ],
   "source": [
    "# Function definitions\n",
    "function myfunc(input)\n",
    "    output = input^3\n",
    "    output  # the last line of a function be returned (if not returned already)\n",
    "end\n",
    "\n",
    "println(myfunc(555))\n",
    "\n",
    "# inline function definitions\n",
    "f(x) = 3x^2 + 2x + 1\n",
    "g(y) = 1 / (1 - y)\n",
    "\n",
    "g(f(2))"
   ]
  },
  {
   "cell_type": "markdown",
   "id": "7ecda784",
   "metadata": {},
   "source": [
    "Most functions have documentation included which can be accessed with the `@doc` macro e.g. `@doc abs`"
   ]
  },
  {
   "cell_type": "code",
   "execution_count": 68,
   "id": "2198e837",
   "metadata": {},
   "outputs": [],
   "source": [
    "# example help"
   ]
  },
  {
   "cell_type": "markdown",
   "id": "d7da984c",
   "metadata": {},
   "source": [
    "## Julia specific features\n",
    "The official [docs](https://docs.julialang.org/en/v1/manual/noteworthy-differences/) has a page on noteworthy differences with other languages"
   ]
  },
  {
   "cell_type": "markdown",
   "id": "1f5b93ef",
   "metadata": {},
   "source": [
    "### Broadcasting\n",
    "Many functions and operations can be *broadcast* over an array or other collection. This means the function is applied to each element of a list in a computationally efficient way. (This is similar to vectorised code in other languages.)\n",
    "\n",
    "Broadcasted functions have a `.` before the operation or function call (those familiar with MATLAB will recognise this notation)."
   ]
  },
  {
   "cell_type": "code",
   "execution_count": 39,
   "id": "735239e1",
   "metadata": {},
   "outputs": [
    {
     "name": "stdout",
     "output_type": "stream",
     "text": [
      "[12, 13, 15]\n",
      "[0.0, 0.7071067811865475, 1.0, 0.7071067811865476, 1.2246467991473532e-16, -0.7071067811865475, -1.0, -0.7071067811865477, -2.4492935982947064e-16]\n"
     ]
    },
    {
     "data": {
      "text/plain": [
       "25502500"
      ]
     },
     "metadata": {},
     "output_type": "display_data"
    }
   ],
   "source": [
    "values = [2, 3, 5] .+ 10\n",
    "println(values)\n",
    "\n",
    "theta = 0:(pi/4):2pi\n",
    "x = sin.(theta) # note the '.' before the '('\n",
    "println(x)\n",
    "\n",
    "# works for any function we define\n",
    "x_list = 1:100\n",
    "cube_list = myfunc.(x_list)\n",
    "sum(cube_list)"
   ]
  },
  {
   "cell_type": "markdown",
   "id": "6341493e",
   "metadata": {},
   "source": [
    "### Macros\n",
    "Julia has several in-built *macros* that perform meta-programming (code which writes code). Macros begin with an `@` sign.\n",
    "\n",
    "Macros are commonly used in symbolic or modelling packages, including in Catalyst and Symbolics."
   ]
  },
  {
   "cell_type": "code",
   "execution_count": 62,
   "id": "ec798261",
   "metadata": {},
   "outputs": [
    {
     "name": "stdout",
     "output_type": "stream",
     "text": [
      "collect(x) = [1, 2, 3, 4, 5]\n",
      "x .^ 2 = [1, 4, 9, 16, 25]\n"
     ]
    }
   ],
   "source": [
    "x = 1:5\n",
    "@show collect(x)\n",
    "@show x .^ 2\n",
    ";"
   ]
  },
  {
   "cell_type": "markdown",
   "id": "03e674fa",
   "metadata": {},
   "source": [
    "Notice that the printed output of `@show` included both the code itself and the calculated output. That is the essence of macros; they use the *code itself* as input data."
   ]
  },
  {
   "cell_type": "markdown",
   "id": "43e155fa",
   "metadata": {},
   "source": [
    "### Symbolics"
   ]
  },
  {
   "cell_type": "code",
   "execution_count": null,
   "id": "105b06da",
   "metadata": {},
   "outputs": [
    {
     "data": {
      "text/latex": [
       "$$ \\begin{equation}\n",
       "\\left[\n",
       "\\begin{array}{c}\n",
       "x \\\\\n",
       "y \\\\\n",
       "z \\\\\n",
       "\\end{array}\n",
       "\\right]\n",
       "\\end{equation}\n",
       " $$"
      ],
      "text/plain": [
       "3-element Vector{Num}:\n",
       " x\n",
       " y\n",
       " z"
      ]
     },
     "metadata": {},
     "output_type": "display_data"
    }
   ],
   "source": [
    "using Symbolics\n",
    "@variables x y z"
   ]
  },
  {
   "cell_type": "code",
   "execution_count": null,
   "id": "66b076bd",
   "metadata": {},
   "outputs": [
    {
     "data": {
      "text/latex": [
       "$$ \\begin{equation}\n",
       "\\left[\n",
       "\\begin{array}{c}\n",
       "2 x + 4 x^{2} \\\\\n",
       "2 + 3 y^{2} + y^{4} \\\\\n",
       "x + y + z + x^{2} + 2 x y + 2 x z + y^{2} + 2 y z + z^{2} \\\\\n",
       "\\end{array}\n",
       "\\right]\n",
       "\\end{equation}\n",
       " $$"
      ],
      "text/plain": [
       "3-element Vector{Num}:\n",
       "                          (2//1)*x + (4//1)*(x^2)\n",
       "                                 2 + 3(y^2) + y^4\n",
       " x + y + z + x^2 + 2x*y + 2x*z + y^2 + 2y*z + z^2"
      ]
     },
     "metadata": {},
     "output_type": "display_data"
    }
   ],
   "source": [
    "x isa Number  # true\n",
    "\n",
    "f(t) = t^2 + t\n",
    "sym_vec = f.([2x, y^2 + 1, x + z + y])\n",
    "\n",
    "expand.(sym_vec)"
   ]
  },
  {
   "cell_type": "markdown",
   "id": "11e31e9d",
   "metadata": {},
   "source": [
    "#### Compilation time\n",
    "Code is compiled the first time Julia code is used in a session. This means that the first time code is run can appear slow, but each subsequent call will be much faster."
   ]
  },
  {
   "cell_type": "code",
   "execution_count": 67,
   "id": "968ca438",
   "metadata": {},
   "outputs": [
    {
     "data": {
      "text/plain": [
       "100×100 Matrix{ComplexF64}:\n",
       " 8800.35-3.34802im   8163.07-0.840518im   …  8550.26+0.337513im\n",
       " 9494.85-0.868717im  8809.51-0.562227im      9226.97-0.21169im\n",
       "  9438.0+2.52184im   8754.99+0.934599im      9172.55+0.00795573im\n",
       " 8892.01-2.40154im   8255.41-0.357898im      8641.41+0.45516im\n",
       " 9133.35+0.289228im  8477.36-0.0933768im     8885.46-0.173502im\n",
       " 8940.61-1.4618im    8310.74-0.351798im   …  8698.25+0.160571im\n",
       " 9811.74+3.19611im   9104.44+0.327347im      9537.64-0.735295im\n",
       " 8350.42-0.58355im   7748.36-0.205168im      8100.79+0.00780885im\n",
       " 9415.19+3.90789im   8743.17+1.04311im       9146.48-0.34001im\n",
       " 8051.35-4.30718im   7473.04-1.25216im       7831.45+0.285635im\n",
       "        ⋮                                 ⋱  \n",
       " 8270.98+1.92588im    7675.1+0.894243im      8036.92+0.163048im\n",
       " 9217.51+0.774756im  8558.85+0.327805im      8966.82+0.0378192im\n",
       " 8809.54+1.61847im   8173.89+0.11349im       8562.93-0.417804im\n",
       " 9539.63-4.65388im    8850.1-0.94282im       9267.09+0.665285im\n",
       " 9175.86+0.393243im  8506.76-0.137176im   …  8910.71-0.244784im\n",
       " 8643.12+0.575737im  8028.94-0.0384719im     8409.18-0.217189im\n",
       " 8808.73-1.97431im   8171.02-0.899047im      8558.92-0.15177im\n",
       " 9119.69-1.71848im   8462.08-0.265564im      8864.81+0.317473im\n",
       " 8179.58+1.70265im   7587.52+0.149436im      7947.21-0.413409im"
      ]
     },
     "metadata": {},
     "output_type": "display_data"
    }
   ],
   "source": [
    "# Run the following twice\n",
    "rand(100, 100)^3.5"
   ]
  },
  {
   "cell_type": "markdown",
   "id": "36f4c235",
   "metadata": {},
   "source": [
    "This should be enough to get started using Julia.\n",
    "\n",
    "Continue to [Intro to Catalyst](Tutorial2.ipynb)"
   ]
  }
 ],
 "metadata": {
  "kernelspec": {
   "display_name": "Julia 1.11.6",
   "language": "julia",
   "name": "julia-1.11"
  },
  "language_info": {
   "file_extension": ".jl",
   "mimetype": "application/julia",
   "name": "julia",
   "version": "1.11.6"
  }
 },
 "nbformat": 4,
 "nbformat_minor": 5
}
