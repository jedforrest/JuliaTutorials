{
 "cells": [
  {
   "cell_type": "markdown",
   "id": "032e83ea",
   "metadata": {},
   "source": [
    "# 5. Catalyst + Oscar"
   ]
  },
  {
   "cell_type": "markdown",
   "id": "5cb9932e",
   "metadata": {},
   "source": [
    "**TODO**\n",
    "- Write motivation\n",
    "- Getting CRN equations at steady state\n",
    "- (can solve for steady state equations also?)\n",
    "- CRN -> GB simple example\n",
    "- Cholesterol example\n",
    "- Independent decomposition"
   ]
  },
  {
   "cell_type": "code",
   "execution_count": null,
   "id": "579705c8",
   "metadata": {},
   "outputs": [
    {
     "name": "stderr",
     "output_type": "stream",
     "text": [
      "\u001b[32m\u001b[1m  Activating\u001b[22m\u001b[39m project at `~/Documents/repos/JuliaTutorials`\n",
      "\u001b[32m\u001b[1m   Resolving\u001b[22m\u001b[39m package versions...\n"
     ]
    }
   ],
   "source": [
    "using Pkg\n",
    "Pkg.activate(\".\")\n",
    "Pkg.add(\"Symbolics\")"
   ]
  },
  {
   "cell_type": "code",
   "execution_count": null,
   "id": "4ff2a470",
   "metadata": {},
   "outputs": [],
   "source": [
    "using Symbolics\n",
    "using Catalyst\n",
    "using Oscar"
   ]
  },
  {
   "cell_type": "code",
   "execution_count": null,
   "id": "21fb9999",
   "metadata": {},
   "outputs": [],
   "source": [
    "# TODO this might go at the end of tutoial 3\n",
    "using Symbolics\n",
    "@variables x y z"
   ]
  },
  {
   "cell_type": "code",
   "execution_count": null,
   "id": "f386858a",
   "metadata": {},
   "outputs": [],
   "source": [
    "x isa Number  # true\n",
    "\n",
    "f(t) = t^2 + t\n",
    "sym_vec = f.([2x, y^2 + 1, x + z + y])\n",
    "\n",
    "expand.(sym_vec)"
   ]
  }
 ],
 "metadata": {
  "kernelspec": {
   "display_name": "Julia 1.11.7",
   "language": "julia",
   "name": "julia-1.11"
  },
  "language_info": {
   "file_extension": ".jl",
   "mimetype": "application/julia",
   "name": "julia",
   "version": "1.11.7"
  }
 },
 "nbformat": 4,
 "nbformat_minor": 5
}
