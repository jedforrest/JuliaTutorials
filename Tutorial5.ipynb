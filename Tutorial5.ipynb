{
 "cells": [
  {
   "cell_type": "markdown",
   "id": "032e83ea",
   "metadata": {},
   "source": [
    "# 5. Catalyst + Oscar"
   ]
  },
  {
   "cell_type": "markdown",
   "id": "5cb9932e",
   "metadata": {},
   "source": [
    "**TODO**\n",
    "- Write motivation\n",
    "- Getting CRN equations at steady state\n",
    "- (can solve for steady state equations also?)\n",
    "- CRN -> GB simple example\n",
    "- Cholesterol example\n",
    "- Independent decomposition"
   ]
  },
  {
   "cell_type": "code",
   "execution_count": null,
   "id": "579705c8",
   "metadata": {},
   "outputs": [],
   "source": []
  }
 ],
 "metadata": {
  "kernelspec": {
   "display_name": "Julia 1.11.7",
   "language": "julia",
   "name": "julia-1.11"
  },
  "language_info": {
   "file_extension": ".jl",
   "mimetype": "application/julia",
   "name": "julia",
   "version": "1.11.7"
  }
 },
 "nbformat": 4,
 "nbformat_minor": 5
}
