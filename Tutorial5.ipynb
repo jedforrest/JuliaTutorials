{
 "cells": [
  {
   "cell_type": "markdown",
   "id": "032e83ea",
   "metadata": {},
   "source": [
    "# 5. Catalyst + Oscar"
   ]
  },
  {
   "cell_type": "code",
   "execution_count": null,
   "id": "579705c8",
   "metadata": {},
   "outputs": [],
   "source": [
    "using Pkg\n",
    "Pkg.activate(\".\")\n",
    "Pkg.add(\"Symbolics\")"
   ]
  },
  {
   "cell_type": "code",
   "execution_count": 219,
   "id": "4ff2a470",
   "metadata": {},
   "outputs": [],
   "source": [
    "using Symbolics\n",
    "using Catalyst\n",
    "using Catalyst: unknowns # sometimes need to specify which method to use if defined in multiple packages\n",
    "using Oscar\n",
    "using Oscar: groebner_basis"
   ]
  },
  {
   "cell_type": "markdown",
   "id": "d1ca77c7",
   "metadata": {},
   "source": [
    "### Aside: Symbolics.jl\n",
    "Catalyst uses `Symbolics.jl` as its computer algebra system. This is slightly different to Oscar."
   ]
  },
  {
   "cell_type": "code",
   "execution_count": 226,
   "id": "21fb9999",
   "metadata": {},
   "outputs": [
    {
     "data": {
      "text/latex": [
       "$$ \\begin{equation}\n",
       "\\left[\n",
       "\\begin{array}{c}\n",
       "x \\\\\n",
       "y \\\\\n",
       "z \\\\\n",
       "\\end{array}\n",
       "\\right]\n",
       "\\end{equation}\n",
       " $$"
      ],
      "text/plain": [
       "3-element Vector{Num}:\n",
       " x\n",
       " y\n",
       " z"
      ]
     },
     "metadata": {},
     "output_type": "display_data"
    }
   ],
   "source": [
    "@variables x y z"
   ]
  },
  {
   "cell_type": "code",
   "execution_count": 227,
   "id": "f386858a",
   "metadata": {},
   "outputs": [
    {
     "data": {
      "text/latex": [
       "$$ \\begin{equation}\n",
       "\\left[\n",
       "\\begin{array}{c}\n",
       "2 x + 4 x^{2} \\\\\n",
       "1 + y^{2} + \\left( 1 + y^{2} \\right)^{2} \\\\\n",
       "x + y + z + \\left( x + y + z \\right)^{2} \\\\\n",
       "\\end{array}\n",
       "\\right]\n",
       "\\end{equation}\n",
       " $$"
      ],
      "text/plain": [
       "3-element Vector{Num}:\n",
       "         2x + (4//1)*(x^2)\n",
       "     1 + y^2 + (1 + y^2)^2\n",
       " x + y + z + (x + y + z)^2"
      ]
     },
     "metadata": {},
     "output_type": "display_data"
    }
   ],
   "source": [
    "x isa Number  # true\n",
    "\n",
    "f(t) = t^2 + t\n",
    "sym_vec = f.([2x, y^2 + 1, x + z + y])"
   ]
  },
  {
   "cell_type": "code",
   "execution_count": 228,
   "id": "dfdc47fb",
   "metadata": {},
   "outputs": [
    {
     "data": {
      "text/latex": [
       "$$ \\begin{equation}\n",
       "\\left[\n",
       "\\begin{array}{c}\n",
       "2 x + 4 x^{2} \\\\\n",
       "2 + 3 y^{2} + y^{4} \\\\\n",
       "x + y + z + x^{2} + 2 x y + 2 x z + y^{2} + 2 y z + z^{2} \\\\\n",
       "\\end{array}\n",
       "\\right]\n",
       "\\end{equation}\n",
       " $$"
      ],
      "text/plain": [
       "3-element Vector{Num}:\n",
       "                          (2//1)*x + (4//1)*(x^2)\n",
       "                                 2 + 3(y^2) + y^4\n",
       " x + y + z + x^2 + 2x*y + 2x*z + y^2 + 2y*z + z^2"
      ]
     },
     "metadata": {},
     "output_type": "display_data"
    }
   ],
   "source": [
    "Symbolics.expand.(sym_vec)"
   ]
  },
  {
   "cell_type": "markdown",
   "id": "e16e4025",
   "metadata": {},
   "source": [
    "## Catalyst to Oscar"
   ]
  },
  {
   "cell_type": "code",
   "execution_count": 229,
   "id": "2d9542db",
   "metadata": {},
   "outputs": [
    {
     "data": {
      "text/latex": [
       "$$ \\begin{align*}\n",
       "2 \\mathrm{A} + 3 \\mathrm{B} &\\xrightarrow{k} \\mathrm{A} + 2 \\mathrm{C} + \\mathrm{D} \\\\\n",
       "\\mathrm{C} + \\mathrm{D} &\\xrightarrow{b} 2 \\mathrm{A} + 3 \\mathrm{B}  \n",
       " \\end{align*}\n",
       " $$"
      ],
      "text/plain": [
       "\u001b[0m\u001b[1mModel ##ReactionSystem#354:\u001b[22m\n",
       "\u001b[0m\u001b[1mUnknowns (4):\u001b[22m see unknowns(##ReactionSystem#354)\n",
       "  A(t)\n",
       "  B(t)\n",
       "  C(t)\n",
       "  D(t)\n",
       "\u001b[0m\u001b[1mParameters (2):\u001b[22m see parameters(##ReactionSystem#354)\n",
       "  k\n",
       "  b"
      ]
     },
     "metadata": {},
     "output_type": "display_data"
    }
   ],
   "source": [
    "rn = @reaction_network begin\n",
    "    k, 2A + 3B --> A + 2C + D\n",
    "    b, C + D --> 2A + 3B\n",
    "end"
   ]
  },
  {
   "cell_type": "code",
   "execution_count": 230,
   "id": "960aebcc",
   "metadata": {},
   "outputs": [
    {
     "data": {
      "text/latex": [
       "$$ \\begin{align}\n",
       "\\frac{\\mathrm{d} A\\left( t \\right)}{\\mathrm{d}t} &= 2 b D\\left( t \\right) C\\left( t \\right) - \\left( A\\left( t \\right) \\right)^{2} \\left( B\\left( t \\right) \\right)^{3} k \\\\\n",
       "\\frac{\\mathrm{d} B\\left( t \\right)}{\\mathrm{d}t} &= 3 b D\\left( t \\right) C\\left( t \\right) - 3 \\left( A\\left( t \\right) \\right)^{2} \\left( B\\left( t \\right) \\right)^{3} k \\\\\n",
       "\\frac{\\mathrm{d} C\\left( t \\right)}{\\mathrm{d}t} &=  - b D\\left( t \\right) C\\left( t \\right) + 2 \\left( A\\left( t \\right) \\right)^{2} \\left( B\\left( t \\right) \\right)^{3} k \\\\\n",
       "\\frac{\\mathrm{d} D\\left( t \\right)}{\\mathrm{d}t} &=  - b D\\left( t \\right) C\\left( t \\right) + \\left( A\\left( t \\right) \\right)^{2} \\left( B\\left( t \\right) \\right)^{3} k\n",
       "\\end{align}\n",
       " $$"
      ],
      "text/plain": [
       "\u001b[0m\u001b[1mModel ##ReactionSystem#354:\u001b[22m\n",
       "\u001b[0m\u001b[1mEquations (4):\u001b[22m\n",
       "  4 standard: see equations(##ReactionSystem#354)\n",
       "\u001b[0m\u001b[1mUnknowns (4):\u001b[22m see unknowns(##ReactionSystem#354)\n",
       "  A(t)\n",
       "  B(t)\n",
       "  C(t)\n",
       "  D(t)\n",
       "\u001b[0m\u001b[1mParameters (2):\u001b[22m see parameters(##ReactionSystem#354)\n",
       "  k\n",
       "  b"
      ]
     },
     "metadata": {},
     "output_type": "display_data"
    }
   ],
   "source": [
    "odesys = convert(ODESystem, rn, combinatoric_ratelaws=false)"
   ]
  },
  {
   "cell_type": "markdown",
   "id": "818c6092",
   "metadata": {},
   "source": [
    "We can extract the mass-action polynomials from the ODESystem struct."
   ]
  },
  {
   "cell_type": "code",
   "execution_count": 231,
   "id": "81ccb4c6",
   "metadata": {},
   "outputs": [
    {
     "name": "stdout",
     "output_type": "stream",
     "text": [
      "vars = unknowns(odesys) = SymbolicUtils.BasicSymbolic{Real}[A(t), B(t), C(t), D(t)]\n",
      "params = parameters(odesys) = SymbolicUtils.BasicSymbolic{Real}[k, b]\n"
     ]
    },
    {
     "data": {
      "text/plain": [
       "4-element Vector{SymbolicUtils.BasicSymbolic{Real}}:\n",
       " 2b*D(t)*C(t) - k*(B(t)^3)*(A(t)^2)\n",
       " 3b*D(t)*C(t) - 3k*(B(t)^3)*(A(t)^2)\n",
       " -b*D(t)*C(t) + 2k*(B(t)^3)*(A(t)^2)\n",
       " -b*D(t)*C(t) + k*(B(t)^3)*(A(t)^2)"
      ]
     },
     "metadata": {},
     "output_type": "display_data"
    }
   ],
   "source": [
    "@show vars = unknowns(odesys)\n",
    "@show params = parameters(odesys)\n",
    "eqn_rhs = [eq.rhs for eq in equations(odesys)]"
   ]
  },
  {
   "cell_type": "markdown",
   "id": "54508a45",
   "metadata": {},
   "source": [
    "We first need to convert between the symbolic representations of Catalyst and Oscar (this is the most fiddly part)."
   ]
  },
  {
   "cell_type": "code",
   "execution_count": 232,
   "id": "4b2369df",
   "metadata": {},
   "outputs": [
    {
     "data": {
      "text/plain": [
       "Ideal generated by\n",
       "  -k*A^2*B^3 + 2*b*C*D\n",
       "  -3*k*A^2*B^3 + 3*b*C*D\n",
       "  2*k*A^2*B^3 - b*C*D\n",
       "  k*A^2*B^3 - b*C*D"
      ]
     },
     "metadata": {},
     "output_type": "display_data"
    }
   ],
   "source": [
    "function polynomial_ideal(eqn_rhs, vars, params)\n",
    "    # Convert Catalyst symbolic variables into Julia Symbol types\n",
    "    varnames = tosymbol.(vars, escape=false)\n",
    "    paramnames = tosymbol.(params)\n",
    "    \n",
    "    # Create polynomial ring in Oscar\n",
    "    CC, oscar_coeffs = polynomial_ring(QQ, paramnames)\n",
    "    ff = fraction_field(CC)\n",
    "    RR, oscar_vars = polynomial_ring(ff, varnames)\n",
    "    \n",
    "    # Map Catalyst variables to Oscar variables\n",
    "    cat_var_params = [vars; params]\n",
    "    oscar_var_params = [oscar_vars; oscar_coeffs]\n",
    "    cat_to_oscar = Dict(cat => oscar for (cat, oscar) in zip(cat_var_params, oscar_var_params))\n",
    "    oscar_to_cat = Dict((oscar => cat) for (cat, oscar) in cat_to_oscar)\n",
    "    \n",
    "    # build Oscar polynomial by substituting oscar vars in Catalyst equations RHS (Right Hand Sides)\n",
    "    polys = map(eqn_rhs) do rhs\n",
    "        if rhs isa Number  # is a constant e.g. zero\n",
    "            RR(rhs)\n",
    "        else\n",
    "            Symbolics.substitute(rhs, cat_to_oscar)\n",
    "        end\n",
    "    end\n",
    "    ideal(RR, polys)\n",
    "end\n",
    "\n",
    "I = polynomial_ideal(eqn_rhs, vars, params)"
   ]
  },
  {
   "cell_type": "markdown",
   "id": "bb5da191",
   "metadata": {},
   "source": [
    "Now we can find a Groebner basis for $I$"
   ]
  },
  {
   "cell_type": "code",
   "execution_count": 233,
   "id": "fb7b2848",
   "metadata": {},
   "outputs": [
    {
     "data": {
      "text/plain": [
       "Gröbner basis with elements\n",
       "  1: C*D\n",
       "  2: k*A^2*B^3 - b*C*D\n",
       "with respect to the ordering\n",
       "  degrevlex([A, B, C, D])"
      ]
     },
     "metadata": {},
     "output_type": "display_data"
    }
   ],
   "source": [
    "G = groebner_basis(I)"
   ]
  },
  {
   "cell_type": "code",
   "execution_count": 234,
   "id": "f58f5e79",
   "metadata": {},
   "outputs": [
    {
     "data": {
      "text/latex": [
       "$$ \\begin{equation}\n",
       "\\left[\n",
       "\\begin{array}{c}\n",
       "C D \\\\\n",
       " - C D b + B^{3} A^{2} k \\\\\n",
       "\\end{array}\n",
       "\\right]\n",
       "\\end{equation}\n",
       " $$"
      ],
      "text/plain": [
       "2-element Vector{Num}:\n",
       "                    C*D\n",
       " -C*D*b + (A^2)*(B^3)*k"
      ]
     },
     "metadata": {},
     "output_type": "display_data"
    }
   ],
   "source": [
    "# we may want to map back to Catalyst/Symbolics\n",
    "function to_symbolic_polynomial(poly::MPolyRingElem)\n",
    "    # create new symbolic vars from ring of poly\n",
    "    var_syms = Symbolics.variable.(gens(parent(poly)))\n",
    "    coeff_syms = Symbolics.variable.(gens(coefficient_ring(poly)))\n",
    "\n",
    "    # coefficients\n",
    "    coeff_terms = Oscar.coefficients(poly)\n",
    "    coeffs = zeros(Num, length(coeff_terms))\n",
    "    for (i, term) in enumerate(coeff_terms)\n",
    "        cf_and_es = coefficients_and_exponents(term.num)\n",
    "        coeff_polyn = sum(Int(cf) * prod(coeff_syms .^ es) for (cf, es) in cf_and_es)\n",
    "        coeffs[i] = coeff_polyn\n",
    "    end\n",
    "    # polynomial variables\n",
    "    exp_vecs = collect(Oscar.exponents(poly))\n",
    "    xs = [prod(var_syms .^ e_vec) for e_vec in exp_vecs]\n",
    "    coeffs' * xs\n",
    "end\n",
    "\n",
    "to_symbolic_polynomial.(gens(G))"
   ]
  },
  {
   "cell_type": "markdown",
   "id": "79b0bca9",
   "metadata": {},
   "source": [
    "## Example: Dimer production"
   ]
  },
  {
   "cell_type": "code",
   "execution_count": 235,
   "id": "f2c4fba5",
   "metadata": {},
   "outputs": [
    {
     "data": {
      "text/latex": [
       "$$ \\begin{align*}\n",
       "\\varnothing &\\xrightarrow{\\mathtt{\\lambda_m}} \\mathrm{\\mathtt{mRNA}} \\\\\n",
       "\\mathrm{\\mathtt{mRNA}} &\\xrightarrow{\\mathtt{\\lambda_p}} \\mathrm{\\mathtt{mRNA}} + \\mathrm{P} \\\\\n",
       "2 \\mathrm{P} &\\xrightleftharpoons[\\mathtt{k_2}]{\\mathtt{k_1}} \\mathrm{\\mathtt{P_2}} \\\\\n",
       "\\mathrm{\\mathtt{mRNA}} &\\xrightarrow{\\delta} \\varnothing \\\\\n",
       "\\mathrm{P} &\\xrightarrow{\\delta} \\varnothing \\\\\n",
       "\\mathrm{\\mathtt{P_2}} &\\xrightarrow{\\delta} \\varnothing  \n",
       " \\end{align*}\n",
       " $$"
      ],
      "text/plain": [
       "\u001b[0m\u001b[1mModel ##ReactionSystem#360:\u001b[22m\n",
       "\u001b[0m\u001b[1mUnknowns (3):\u001b[22m see unknowns(##ReactionSystem#360)\n",
       "  mRNA(t)\n",
       "  P(t)\n",
       "  P₂(t)\n",
       "\u001b[0m\u001b[1mParameters (5):\u001b[22m see parameters(##ReactionSystem#360)\n",
       "  λₘ\n",
       "  λₚ\n",
       "  k₁\n",
       "  k₂\n",
       "\u001b[0m  ⋮"
      ]
     },
     "metadata": {},
     "output_type": "display_data"
    }
   ],
   "source": [
    "dimer_production = @reaction_network begin\n",
    "    λₘ, 0 --> mRNA\n",
    "    λₚ, mRNA --> mRNA + P\n",
    "    (k₁, k₂), 2P <--> P₂\n",
    "    δ, (mRNA, P, P₂) --> 0\n",
    "end"
   ]
  },
  {
   "cell_type": "code",
   "execution_count": 236,
   "id": "76d04137",
   "metadata": {},
   "outputs": [
    {
     "data": {
      "text/latex": [
       "$$ \\begin{align}\n",
       "\\frac{\\mathrm{d} \\mathtt{mRNA}\\left( t \\right)}{\\mathrm{d}t} &= \\mathtt{\\lambda{_m}} - \\mathtt{mRNA}\\left( t \\right) \\delta \\\\\n",
       "\\frac{\\mathrm{d} P\\left( t \\right)}{\\mathrm{d}t} &= 2 \\mathtt{k_2} \\mathtt{P_2}\\left( t \\right) + \\mathtt{mRNA}\\left( t \\right) \\mathtt{\\lambda_p} - P\\left( t \\right) \\delta - \\left( P\\left( t \\right) \\right)^{2} \\mathtt{k_1} \\\\\n",
       "\\frac{\\mathrm{d} \\mathtt{P_2}\\left( t \\right)}{\\mathrm{d}t} &=  - \\mathtt{k_2} \\mathtt{P_2}\\left( t \\right) - \\mathtt{P_2}\\left( t \\right) \\delta + \\frac{1}{2} \\left( P\\left( t \\right) \\right)^{2} \\mathtt{k_1}\n",
       "\\end{align}\n",
       " $$"
      ],
      "text/plain": [
       "\u001b[0m\u001b[1mModel ##ReactionSystem#360:\u001b[22m\n",
       "\u001b[0m\u001b[1mEquations (3):\u001b[22m\n",
       "  3 standard: see equations(##ReactionSystem#360)\n",
       "\u001b[0m\u001b[1mUnknowns (3):\u001b[22m see unknowns(##ReactionSystem#360)\n",
       "  mRNA(t)\n",
       "  P(t)\n",
       "  P₂(t)\n",
       "\u001b[0m\u001b[1mParameters (5):\u001b[22m see parameters(##ReactionSystem#360)\n",
       "  λₘ\n",
       "  λₚ\n",
       "  k₁\n",
       "  k₂\n",
       "\u001b[0m  ⋮"
      ]
     },
     "metadata": {},
     "output_type": "display_data"
    }
   ],
   "source": [
    "odesys = convert(ODESystem, dimer_production, combinatoric_ratelaws=true)"
   ]
  },
  {
   "cell_type": "code",
   "execution_count": 237,
   "id": "ccbe3f60",
   "metadata": {},
   "outputs": [
    {
     "data": {
      "text/plain": [
       "Ideal generated by\n",
       "  -δ*mRNA + λₘ\n",
       "  λₚ*mRNA - k₁*P^2 - δ*P + 2*k₂*P₂\n",
       "  1//2*k₁*P^2 + (-k₂ - δ)*P₂"
      ]
     },
     "metadata": {},
     "output_type": "display_data"
    }
   ],
   "source": [
    "function polynomial_ideal(odesys::ODESystem)\n",
    "    vars = unknowns(odesys)\n",
    "    params = parameters(odesys)\n",
    "    eqn_rhs = [eq.rhs for eq in equations(odesys)]\n",
    "    polynomial_ideal(eqn_rhs, vars, params)\n",
    "end\n",
    "I = polynomial_ideal(odesys)"
   ]
  },
  {
   "cell_type": "code",
   "execution_count": 238,
   "id": "4669234b",
   "metadata": {},
   "outputs": [
    {
     "data": {
      "text/plain": [
       "Gröbner basis with elements\n",
       "  1: δ^2*P + 2*δ^2*P₂ - λₘ*λₚ\n",
       "  2: δ*mRNA - λₘ\n",
       "  3: 4*k₁*δ^2*P₂^2 + λₘ*λₚ*k₁*P + (-2*λₘ*λₚ*k₁ - 2*k₂*δ^2 - 2*δ^3)*P₂\n",
       "with respect to the ordering\n",
       "  degrevlex([mRNA, P, P₂])"
      ]
     },
     "metadata": {},
     "output_type": "display_data"
    }
   ],
   "source": [
    "G = groebner_basis(I)"
   ]
  },
  {
   "cell_type": "code",
   "execution_count": 239,
   "id": "e3ea52cd",
   "metadata": {},
   "outputs": [
    {
     "data": {
      "text/plain": [
       "Gröbner basis with elements\n",
       "  1: 4*k₁*δ^4*P₂^2 + (-4*λₘ*λₚ*k₁*δ^2 - 2*k₂*δ^4 - 2*δ^5)*P₂ + λₘ^2*λₚ^2*k₁\n",
       "  2: δ^2*P + 2*δ^2*P₂ - λₘ*λₚ\n",
       "  3: δ*mRNA - λₘ\n",
       "with respect to the ordering\n",
       "  lex([mRNA, P, P₂])"
      ]
     },
     "metadata": {},
     "output_type": "display_data"
    }
   ],
   "source": [
    "@assert dim(I) == 0\n",
    "G = groebner_basis(I, algorithm=:fglm, ordering=lex(base_ring(I)))"
   ]
  },
  {
   "cell_type": "code",
   "execution_count": 240,
   "id": "dbb21e53",
   "metadata": {},
   "outputs": [
    {
     "data": {
      "text/plain": [
       "3-element Vector{Vector{AbstractAlgebra.Generic.MPoly{AbstractAlgebra.Generic.FracFieldElem{QQMPolyRingElem}}}}:\n",
       " [P₂]\n",
       " [P, P₂]\n",
       " [mRNA]"
      ]
     },
     "metadata": {},
     "output_type": "display_data"
    }
   ],
   "source": [
    "Oscar.vars.(gens(G))"
   ]
  },
  {
   "cell_type": "code",
   "execution_count": 241,
   "id": "038bf147",
   "metadata": {},
   "outputs": [
    {
     "data": {
      "text/latex": [
       "$$ \\begin{equation}\n",
       "\\left[\n",
       "\\begin{array}{c}\n",
       "\\mathtt{\\lambda{_p}}^{2} \\mathtt{\\lambda{_m}}^{2} \\mathtt{k{_1}} + \\mathtt{P{_2}} \\left(  - 4 \\delta^{2} \\mathtt{k{_1}} \\mathtt{\\lambda{_m}} \\mathtt{\\lambda{_p}} - 2 \\delta^{4} \\mathtt{k{_2}} - 2 \\delta^{5} \\right) + 4 \\delta^{4} \\mathtt{P{_2}}^{2} \\mathtt{k{_1}} \\\\\n",
       " - \\mathtt{\\lambda{_m}} \\mathtt{\\lambda{_p}} + \\delta^{2} P + 2 \\delta^{2} \\mathtt{P{_2}} \\\\\n",
       " - \\mathtt{\\lambda{_m}} + \\mathtt{mRNA} \\delta \\\\\n",
       "\\end{array}\n",
       "\\right]\n",
       "\\end{equation}\n",
       " $$"
      ],
      "text/plain": [
       "3-element Vector{Num}:\n",
       " k₁*(λₘ^2)*(λₚ^2) + P₂*(-4k₁*(δ^2)*λₘ*λₚ - 2k₂*(δ^4) - 2(δ^5)) + 4(P₂^2)*k₁*(δ^4)\n",
       "                                                     -λₘ*λₚ + P*(δ^2) + 2P₂*(δ^2)\n",
       "                                                                     -λₘ + mRNA*δ"
      ]
     },
     "metadata": {},
     "output_type": "display_data"
    }
   ],
   "source": [
    "to_symbolic_polynomial.(gens(G))"
   ]
  },
  {
   "cell_type": "markdown",
   "id": "1363f88c",
   "metadata": {},
   "source": [
    "## Example: Cholesterol Regulation RPA\n",
    "*Robust homeostasis of cellular cholesterol is a consequence of endogenous antithetic integral control*\n",
    "([Scheepers and Araujo, 2023](https://www.frontiersin.org/journals/cell-and-developmental-biology/articles/10.3389/fcell.2023.1244297/full))"
   ]
  },
  {
   "cell_type": "code",
   "execution_count": 242,
   "id": "40faa6d9",
   "metadata": {},
   "outputs": [
    {
     "data": {
      "text/latex": [
       "$$ \\begin{align*}\n",
       "\\varnothing &\\xrightarrow{\\mu} \\mathrm{\\mathtt{S_{ci}}} \\\\\n",
       "\\varnothing &\\xrightarrow{\\alpha} \\mathrm{H} \\\\\n",
       "\\mathrm{\\mathtt{S_{ci}}} &\\xrightarrow{\\mathtt{k_{1}}} \\mathrm{\\mathtt{S_{ci}}} + \\mathrm{\\mathtt{S_{r}}} + \\mathrm{\\mathtt{S_{h}}} + \\mathrm{\\mathtt{S_{p}}} \\\\\n",
       "\\mathrm{\\mathtt{S_{r}}} &\\xrightarrow{\\mathtt{p_{1}}} \\mathrm{\\mathtt{S_{r}}} + \\mathrm{R} \\\\\n",
       "\\mathrm{\\mathtt{S_{h}}} &\\xrightarrow{\\mathtt{p_{2}}} \\mathrm{\\mathtt{S_{h}}} + \\mathrm{\\mathtt{H_{R}}} \\\\\n",
       "\\mathrm{\\mathtt{S_{p}}} &\\xrightarrow{\\mathtt{p_{3}}} \\mathrm{\\mathtt{S_{p}}} + \\mathrm{P} \\\\\n",
       "\\mathrm{R} &\\xrightarrow{\\mathtt{C_{L}} \\mathtt{k_{3}}} \\mathrm{R} + \\mathrm{\\mathtt{C_{f}}} \\\\\n",
       "\\mathrm{P} + \\mathrm{R} &\\xrightarrow{\\mathtt{k_{14}}} \\mathrm{P} \\\\\n",
       "\\mathrm{\\mathtt{C_{f}}} &\\xrightarrow{\\mathtt{k_{4}}} \\mathrm{\\mathtt{C_{p}}} \\\\\n",
       "\\mathrm{\\mathtt{C_{p}}} &\\xrightleftharpoons[\\mathtt{k_{6}}]{\\mathtt{k_{5}}} \\mathrm{\\mathtt{C_{e}}} \\\\\n",
       "\\mathrm{\\mathtt{C_{e}}} &\\xrightleftharpoons[\\mathtt{k_{8}}]{\\mathtt{k_{7}}} \\mathrm{E} \\\\\n",
       "\\mathrm{H} + \\mathrm{\\mathtt{H_{R}}} &\\xrightarrow{\\mathtt{k_{9}}} \\mathrm{\\mathtt{H_{R}}} + \\mathrm{\\mathtt{C_{e}}} \\\\\n",
       "\\mathrm{\\mathtt{C_{e}}} + \\mathrm{\\mathtt{H_{R}}} &\\xrightarrow{\\mathtt{k_{15}}} \\mathrm{\\mathtt{C_{e}}} \\\\\n",
       "\\mathrm{\\mathtt{C_{e}}} &\\xrightarrow{\\theta} \\mathrm{\\mathtt{C_{e}}} + \\mathrm{C} \\\\\n",
       "\\mathrm{\\mathtt{S_{ci}}} + \\mathrm{C} &\\xrightarrow{\\eta} \\varnothing \\\\\n",
       "\\mathrm{\\mathtt{S_{r}}} &\\xrightarrow{\\mathtt{k_{2}}} \\varnothing \\\\\n",
       "\\mathrm{\\mathtt{S_{h}}} &\\xrightarrow{\\mathtt{k_{10}}} \\varnothing \\\\\n",
       "\\mathrm{\\mathtt{S_{p}}} &\\xrightarrow{\\mathtt{k_{13}}} \\varnothing \\\\\n",
       "\\mathrm{R} &\\xrightarrow{\\mathtt{k_{11}}} \\varnothing \\\\\n",
       "\\mathrm{\\mathtt{C_{e}}} &\\xrightarrow{\\mathtt{k_{12}}} \\varnothing \\\\\n",
       "\\mathrm{P} &\\xrightarrow{\\mathtt{k_{16}}} \\varnothing  \n",
       " \\end{align*}\n",
       " $$"
      ],
      "text/plain": [
       "\u001b[0m\u001b[1mModel Cholesterol_RN:\u001b[22m\n",
       "\u001b[0m\u001b[1mUnknowns (14):\u001b[22m see unknowns(Cholesterol_RN)\n",
       "  S_p(t)\n",
       "  C(t)\n",
       "  P(t)\n",
       "  R(t)\n",
       "\u001b[0m  ⋮\n",
       "\u001b[0m\u001b[1mParameters (23):\u001b[22m see parameters(Cholesterol_RN)\n",
       "  k_1\n",
       "  k_2\n",
       "  k_3\n",
       "  k_4\n",
       "\u001b[0m  ⋮"
      ]
     },
     "metadata": {},
     "output_type": "display_data"
    }
   ],
   "source": [
    "rn = include(\"./data/cholesterol_rn.jl\")"
   ]
  },
  {
   "cell_type": "code",
   "execution_count": 243,
   "id": "db72ae79",
   "metadata": {},
   "outputs": [
    {
     "data": {
      "text/plain": [
       "Ideal generated by\n",
       "  -k_13*S_p + k_1*S_ci\n",
       "  -η*C*S_ci + θ*C_e\n",
       "  p_3*S_p - k_16*P\n",
       "  -k_14*P*R - k_11*R + p_1*S_r\n",
       "  -k_2*S_r + k_1*S_ci\n",
       "  -k_10*S_h + k_1*S_ci\n",
       "  -k_9*H*H_R + α\n",
       "  p_2*S_h - k_15*H_R*C_e\n",
       "  -k_5*C_p + k_4*C_f + k_6*C_e\n",
       "  -k_8*E + k_7*C_e\n",
       "  -η*C*S_ci + μ\n",
       "  k_3*R*C_L - k_4*C_f\n",
       "  k_9*H*H_R + k_5*C_p + k_8*E + (-k_6 - k_7 - k_12)*C_e\n",
       "  0"
      ]
     },
     "metadata": {},
     "output_type": "display_data"
    }
   ],
   "source": [
    "odesys = convert(ODESystem, rn)\n",
    "I = polynomial_ideal(odesys)"
   ]
  },
  {
   "cell_type": "code",
   "execution_count": 244,
   "id": "7fb60a1e",
   "metadata": {},
   "outputs": [
    {
     "data": {
      "text/plain": [
       "Gröbner basis with elements\n",
       "  1: k_4*θ*C_f - k_12*μ + θ*α\n",
       "  2: θ*C_e - μ\n",
       "  3: k_1*k_3*k_13*k_16*p_1*θ*S_ci*C_L + (-k_1*k_2*k_12*k_14*p_3*μ + k_1*k_2*k_14*p_3*θ*α)*S_ci - k_2*k_4*k_11*k_13*k_16*θ*C_f\n",
       "  4: k_8*E - k_7*C_e\n",
       "  5: k_5*C_p - k_6*C_e - k_4*C_f\n",
       "  6: k_10*k_15*μ*H_R - k_1*p_2*θ*S_ci\n",
       "  7: (k_2*k_9*k_11*k_12*k_13*k_16*p_2*μ*θ - k_2*k_9*k_11*k_13*k_16*p_2*θ^2*α)*H + k_3*k_5*k_10*k_13*k_15*k_16*p_1*μ*θ*C_p*C_L + (-k_2*k_5*k_10*k_12*k_14*k_15*p_3*μ^2 + k_2*k_5*k_10*k_14*k_15*p_3*μ*θ*α)*C_p + k_3*k_8*k_10*k_13*k_15*k_16*p_1*μ*θ*E*C_L + (-k_2*k_8*k_10*k_12*k_14*k_15*p_3*μ^2 + k_2*k_8*k_10*k_14*k_15*p_3*μ*θ*α)*E + (-k_3*k_6*k_10*k_13*k_15*k_16*p_1*μ*θ - k_3*k_7*k_10*k_13*k_15*k_16*p_1*μ*θ - k_3*k_10*k_12*k_13*k_15*k_16*p_1*μ*θ)*C_e*C_L + (k_2*k_6*k_10*k_12*k_14*k_15*p_3*μ^2 - k_2*k_6*k_10*k_14*k_15*p_3*μ*θ*α + k_2*k_7*k_10*k_12*k_14*k_15*p_3*μ^2 - k_2*k_7*k_10*k_14*k_15*p_3*μ*θ*α + k_2*k_10*k_12^2*k_14*k_15*p_3*μ^2 - k_2*k_10*k_12*k_14*k_15*p_3*μ*θ*α)*C_e\n",
       "  8: k_10*S_h - k_1*S_ci\n",
       "  9: k_2*S_r - k_1*S_ci\n",
       "  10: k_3*R*C_L - k_4*C_f\n",
       "  11: k_13*k_16*P - k_1*p_3*S_ci\n",
       "  12: (k_2*k_11*k_12*k_13*k_16*μ*η - k_2*k_11*k_13*k_16*η*θ*α)*C - k_1*k_3*k_13*k_16*p_1*μ*θ*C_L + k_1*k_2*k_12*k_14*p_3*μ^2 - k_1*k_2*k_14*p_3*μ*θ*α\n",
       "  13: p_3*S_p - k_16*P\n",
       "  14: k_1*k_14*p_3*R*S_ci + k_11*k_13*k_16*R - k_13*k_16*p_1*S_r\n",
       "with respect to the ordering\n",
       "  degrevlex([S_p, C, P, R, S_r, S_h, H, H_R, C_p, E, S_ci, C_e])*degrevlex([C_f, C_L])"
      ]
     },
     "metadata": {},
     "output_type": "display_data"
    }
   ],
   "source": [
    "# eliminate all vars EXCEPT C_f, C_L\n",
    "xs = gens(base_ring(I))\n",
    "elimination_ordering = degrevlex(xs[[1:11;13]]) * degrevlex(xs[[12, 14]])\n",
    "G = Oscar.groebner_basis(I; ordering=elimination_ordering)"
   ]
  },
  {
   "cell_type": "code",
   "execution_count": 245,
   "id": "e6b9397d",
   "metadata": {},
   "outputs": [
    {
     "data": {
      "text/html": [
       "k_4*θ*C_f - k_12*μ + θ*α"
      ],
      "text/latex": [
       "k_{4} {\\theta} \\mathop{\\mathrm{C\\_f}} - k_{12} {\\mu} + {\\theta} {\\alpha}"
      ],
      "text/plain": [
       "k_4*θ*C_f - k_12*μ + θ*α"
      ]
     },
     "metadata": {},
     "output_type": "display_data"
    }
   ],
   "source": [
    "G[1]"
   ]
  },
  {
   "cell_type": "code",
   "execution_count": 246,
   "id": "76d769ba",
   "metadata": {},
   "outputs": [
    {
     "data": {
      "text/latex": [
       "$$ \\begin{equation}\n",
       "\\left[\n",
       "\\begin{array}{c}\n",
       "0 \\\\\n",
       "\\mathtt{k\\_12} \\\\\n",
       "0 \\\\\n",
       "0 \\\\\n",
       "0 \\\\\n",
       "0 \\\\\n",
       "\\theta \\\\\n",
       "0 \\\\\n",
       "\\theta \\\\\n",
       "\\theta \\\\\n",
       " - \\mathtt{k\\_12} \\\\\n",
       "0 \\\\\n",
       "\\theta \\\\\n",
       "0 \\\\\n",
       "\\end{array}\n",
       "\\right]\n",
       "\\end{equation}\n",
       " $$"
      ],
      "text/plain": [
       "14-element Vector{Num}:\n",
       "     0\n",
       "  k_12\n",
       "     0\n",
       "     0\n",
       "     0\n",
       "     0\n",
       "     θ\n",
       "     0\n",
       "     θ\n",
       "     θ\n",
       " -k_12\n",
       "     0\n",
       "     θ\n",
       "     0"
      ]
     },
     "metadata": {},
     "output_type": "display_data"
    }
   ],
   "source": [
    "function lift_symbolics(f, I, xs)\n",
    "    A = coordinates(f, I)\n",
    "    B = zeros(Num, length(A))\n",
    "    for (i, aa) in enumerate(A)\n",
    "        if length(aa.coeffs) == 0\n",
    "            continue\n",
    "        else\n",
    "            ff_coeff = aa.coeffs[]\n",
    "            cf_and_es = coefficients_and_exponents(ff_coeff.num)\n",
    "            polyn = sum(Int(cf) * prod(xs .^ es) for (cf, es) in cf_and_es)\n",
    "            B[i] = polyn\n",
    "        end\n",
    "    end\n",
    "    return B\n",
    "end\n",
    "\n",
    "params = parameters(rn)\n",
    "sym_coeffs = lift_symbolics(G[1], I, params)"
   ]
  },
  {
   "cell_type": "code",
   "execution_count": 247,
   "id": "e49ac713",
   "metadata": {},
   "outputs": [
    {
     "data": {
      "text/latex": [
       "$$ \\begin{equation}\n",
       "\\mathtt{k\\_12} \\frac{\\mathrm{d} C\\left( t \\right)}{\\mathrm{d}t} - \\mathtt{k\\_12} \\frac{\\mathrm{d} \\mathtt{S\\_ci}\\left( t \\right)}{\\mathrm{d}t} + \\frac{\\mathrm{d} \\mathtt{C\\_p}\\left( t \\right)}{\\mathrm{d}t} \\theta + \\frac{\\mathrm{d} E\\left( t \\right)}{\\mathrm{d}t} \\theta + \\frac{\\mathrm{d} \\mathtt{C\\_e}\\left( t \\right)}{\\mathrm{d}t} \\theta + \\frac{\\mathrm{d} H\\left( t \\right)}{\\mathrm{d}t} \\theta\n",
       "\\end{equation}\n",
       " $$"
      ],
      "text/plain": [
       "k_12*Differential(t)(C(t)) - k_12*Differential(t)(S_ci(t)) + Differential(t)(C_p(t))*θ + Differential(t)(E(t))*θ + Differential(t)(C_e(t))*θ + Differential(t)(H(t))*θ"
      ]
     },
     "metadata": {},
     "output_type": "display_data"
    },
    {
     "data": {
      "text/latex": [
       "$$ \\begin{equation}\n",
       " - \\mathtt{k\\_12} \\mu + \\alpha \\theta + \\mathtt{k\\_4} \\mathtt{C\\_f}\\left( t \\right) \\theta\n",
       "\\end{equation}\n",
       " $$"
      ],
      "text/plain": [
       "-k_12*μ + α*θ + k_4*C_f(t)*θ"
      ]
     },
     "metadata": {},
     "output_type": "display_data"
    }
   ],
   "source": [
    "eqn_lhs = [eqn.lhs for eqn in equations(odesys)]\n",
    "eqn_rhs = [eqn.rhs for eqn in equations(odesys)]\n",
    "\n",
    "dot(eqn_lhs, sym_coeffs) |> Symbolics.expand |> display\n",
    "rho = dot(eqn_rhs, sym_coeffs) |> Symbolics.expand"
   ]
  },
  {
   "cell_type": "code",
   "execution_count": 248,
   "id": "8c2f379b",
   "metadata": {},
   "outputs": [
    {
     "data": {
      "text/latex": [
       "$$ \\begin{equation}\n",
       "\\mathtt{C\\_f}\\left( t \\right) = \\frac{ - \\mathtt{k\\_12} \\mu + \\alpha \\theta}{ - \\mathtt{k\\_4} \\theta}\n",
       "\\end{equation}\n",
       " $$"
      ],
      "text/plain": [
       "C_f(t) ~ (-k_12*μ + α*θ) / (-k_4*θ)"
      ]
     },
     "metadata": {},
     "output_type": "display_data"
    }
   ],
   "source": [
    "setpoint = Symbolics.symbolic_solve(rho, rn.C_f)[]\n",
    "rn.C_f ~ setpoint"
   ]
  }
 ],
 "metadata": {
  "kernelspec": {
   "display_name": "Julia 1.11.7",
   "language": "julia",
   "name": "julia-1.11"
  },
  "language_info": {
   "file_extension": ".jl",
   "mimetype": "application/julia",
   "name": "julia",
   "version": "1.11.7"
  }
 },
 "nbformat": 4,
 "nbformat_minor": 5
}
